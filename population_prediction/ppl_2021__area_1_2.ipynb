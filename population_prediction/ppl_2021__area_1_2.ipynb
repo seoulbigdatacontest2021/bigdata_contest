{
  "nbformat": 4,
  "nbformat_minor": 0,
  "metadata": {
    "colab": {
      "name": "ppl_2021._area_1_2.ipynb",
      "provenance": [],
      "collapsed_sections": [
        "-EEVqlaHHqMq",
        "qGhFYsYFICgd",
        "WGGThssJT8kT",
        "N6Mta2luUA0W",
        "8VZDgBiiWiC0",
        "s4-OhSQ7XRCL",
        "cfR9TRb8XlWd",
        "DXfnKKydX2nU",
        "5-DFFTP9YPiR",
        "rpXCQjrzYcob",
        "X6Air346aTXG",
        "doSR1Aohamxh",
        "2fMPflKUaqt3",
        "C-yXhFlFatQm",
        "SWg_0TOPavZJ"
      ]
    },
    "kernelspec": {
      "name": "python3",
      "display_name": "Python 3"
    },
    "language_info": {
      "name": "python"
    }
  },
  "cells": [
    {
      "cell_type": "code",
      "metadata": {
        "colab": {
          "base_uri": "https://localhost:8080/"
        },
        "id": "0svF22boGpAm",
        "outputId": "0e9a17cc-ecda-4e2e-b64b-182674c7e4e0"
      },
      "source": [
        "!sudo apt-get install -y fonts-nanum\n",
        "!sudo fc-cache -fv\n",
        "!rm ~/.cache/matplotlib -rf"
      ],
      "execution_count": 1,
      "outputs": [
        {
          "output_type": "stream",
          "name": "stdout",
          "text": [
            "Reading package lists... Done\n",
            "Building dependency tree       \n",
            "Reading state information... Done\n",
            "The following NEW packages will be installed:\n",
            "  fonts-nanum\n",
            "0 upgraded, 1 newly installed, 0 to remove and 37 not upgraded.\n",
            "Need to get 9,604 kB of archives.\n",
            "After this operation, 29.5 MB of additional disk space will be used.\n",
            "Get:1 http://archive.ubuntu.com/ubuntu bionic/universe amd64 fonts-nanum all 20170925-1 [9,604 kB]\n",
            "Fetched 9,604 kB in 1s (8,358 kB/s)\n",
            "debconf: unable to initialize frontend: Dialog\n",
            "debconf: (No usable dialog-like program is installed, so the dialog based frontend cannot be used. at /usr/share/perl5/Debconf/FrontEnd/Dialog.pm line 76, <> line 1.)\n",
            "debconf: falling back to frontend: Readline\n",
            "debconf: unable to initialize frontend: Readline\n",
            "debconf: (This frontend requires a controlling tty.)\n",
            "debconf: falling back to frontend: Teletype\n",
            "dpkg-preconfigure: unable to re-open stdin: \n",
            "Selecting previously unselected package fonts-nanum.\n",
            "(Reading database ... 155047 files and directories currently installed.)\n",
            "Preparing to unpack .../fonts-nanum_20170925-1_all.deb ...\n",
            "Unpacking fonts-nanum (20170925-1) ...\n",
            "Setting up fonts-nanum (20170925-1) ...\n",
            "Processing triggers for fontconfig (2.12.6-0ubuntu2) ...\n",
            "/usr/share/fonts: caching, new cache contents: 0 fonts, 1 dirs\n",
            "/usr/share/fonts/truetype: caching, new cache contents: 0 fonts, 3 dirs\n",
            "/usr/share/fonts/truetype/humor-sans: caching, new cache contents: 1 fonts, 0 dirs\n",
            "/usr/share/fonts/truetype/liberation: caching, new cache contents: 16 fonts, 0 dirs\n",
            "/usr/share/fonts/truetype/nanum: caching, new cache contents: 10 fonts, 0 dirs\n",
            "/usr/local/share/fonts: caching, new cache contents: 0 fonts, 0 dirs\n",
            "/root/.local/share/fonts: skipping, no such directory\n",
            "/root/.fonts: skipping, no such directory\n",
            "/var/cache/fontconfig: cleaning cache directory\n",
            "/root/.cache/fontconfig: not cleaning non-existent cache directory\n",
            "/root/.fontconfig: not cleaning non-existent cache directory\n",
            "fc-cache: succeeded\n"
          ]
        }
      ]
    },
    {
      "cell_type": "code",
      "metadata": {
        "colab": {
          "base_uri": "https://localhost:8080/"
        },
        "id": "gBZpVZOTGrL-",
        "outputId": "0ad2df36-6237-4f34-ea73-3071b678c464"
      },
      "source": [
        "import pandas as pd\n",
        "import seaborn as sns\n",
        "import matplotlib.pyplot as plt\n",
        "import numpy as np\n",
        "import json\n",
        "import folium\n",
        "\n",
        "from google.colab import drive\n",
        "drive.mount('/content/drive')"
      ],
      "execution_count": 1,
      "outputs": [
        {
          "output_type": "stream",
          "name": "stdout",
          "text": [
            "Drive already mounted at /content/drive; to attempt to forcibly remount, call drive.mount(\"/content/drive\", force_remount=True).\n"
          ]
        }
      ]
    },
    {
      "cell_type": "markdown",
      "metadata": {
        "id": "-EEVqlaHHqMq"
      },
      "source": [
        "# 파일 불러오기"
      ]
    },
    {
      "cell_type": "code",
      "metadata": {
        "id": "0-77dPpPHLkp"
      },
      "source": [
        "plt.rcParams[\"font.family\"] = \"NanumGothic\"\n",
        "plt.rcParams[\"figure.figsize\"] = (10,10)\n",
        "\n",
        "ppl_2021 = pd.read_csv('/content/drive/MyDrive/빅캠공모전_data/ppl_2021.csv',encoding='cp949')"
      ],
      "execution_count": 44,
      "outputs": []
    },
    {
      "cell_type": "code",
      "metadata": {
        "colab": {
          "base_uri": "https://localhost:8080/",
          "height": 419
        },
        "id": "O3sqSv1aHal9",
        "outputId": "b19a1f20-9c4e-4463-9534-448f4b96a510"
      },
      "source": [
        "ppl_2021"
      ],
      "execution_count": 45,
      "outputs": [
        {
          "output_type": "execute_result",
          "data": {
            "text/html": [
              "<div>\n",
              "<style scoped>\n",
              "    .dataframe tbody tr th:only-of-type {\n",
              "        vertical-align: middle;\n",
              "    }\n",
              "\n",
              "    .dataframe tbody tr th {\n",
              "        vertical-align: top;\n",
              "    }\n",
              "\n",
              "    .dataframe thead th {\n",
              "        text-align: right;\n",
              "    }\n",
              "</style>\n",
              "<table border=\"1\" class=\"dataframe\">\n",
              "  <thead>\n",
              "    <tr style=\"text-align: right;\">\n",
              "      <th></th>\n",
              "      <th>Unnamed: 0</th>\n",
              "      <th>atdrc_code_se</th>\n",
              "      <th>stdr_ym</th>\n",
              "      <th>tot_popltn_co</th>\n",
              "      <th>Unnamed: 4</th>\n",
              "      <th>Unnamed: 5</th>\n",
              "    </tr>\n",
              "  </thead>\n",
              "  <tbody>\n",
              "    <tr>\n",
              "      <th>0</th>\n",
              "      <td>901</td>\n",
              "      <td>종로구</td>\n",
              "      <td>202103</td>\n",
              "      <td>147296</td>\n",
              "      <td>NaN</td>\n",
              "      <td>2021-03</td>\n",
              "    </tr>\n",
              "    <tr>\n",
              "      <th>1</th>\n",
              "      <td>902</td>\n",
              "      <td>중구</td>\n",
              "      <td>202103</td>\n",
              "      <td>124552</td>\n",
              "      <td>NaN</td>\n",
              "      <td>2021-03</td>\n",
              "    </tr>\n",
              "    <tr>\n",
              "      <th>2</th>\n",
              "      <td>903</td>\n",
              "      <td>용산구</td>\n",
              "      <td>202103</td>\n",
              "      <td>229013</td>\n",
              "      <td>NaN</td>\n",
              "      <td>2021-03</td>\n",
              "    </tr>\n",
              "    <tr>\n",
              "      <th>3</th>\n",
              "      <td>904</td>\n",
              "      <td>성동구</td>\n",
              "      <td>202103</td>\n",
              "      <td>291906</td>\n",
              "      <td>NaN</td>\n",
              "      <td>2021-03</td>\n",
              "    </tr>\n",
              "    <tr>\n",
              "      <th>4</th>\n",
              "      <td>905</td>\n",
              "      <td>광진구</td>\n",
              "      <td>202103</td>\n",
              "      <td>343392</td>\n",
              "      <td>NaN</td>\n",
              "      <td>2021-03</td>\n",
              "    </tr>\n",
              "    <tr>\n",
              "      <th>...</th>\n",
              "      <td>...</td>\n",
              "      <td>...</td>\n",
              "      <td>...</td>\n",
              "      <td>...</td>\n",
              "      <td>...</td>\n",
              "      <td>...</td>\n",
              "    </tr>\n",
              "    <tr>\n",
              "      <th>170</th>\n",
              "      <td>2196</td>\n",
              "      <td>관악구</td>\n",
              "      <td>202107</td>\n",
              "      <td>488525</td>\n",
              "      <td>NaN</td>\n",
              "      <td>2021-07</td>\n",
              "    </tr>\n",
              "    <tr>\n",
              "      <th>171</th>\n",
              "      <td>2197</td>\n",
              "      <td>서초구</td>\n",
              "      <td>202107</td>\n",
              "      <td>418294</td>\n",
              "      <td>NaN</td>\n",
              "      <td>2021-07</td>\n",
              "    </tr>\n",
              "    <tr>\n",
              "      <th>172</th>\n",
              "      <td>2198</td>\n",
              "      <td>강남구</td>\n",
              "      <td>202107</td>\n",
              "      <td>530529</td>\n",
              "      <td>NaN</td>\n",
              "      <td>2021-07</td>\n",
              "    </tr>\n",
              "    <tr>\n",
              "      <th>173</th>\n",
              "      <td>2199</td>\n",
              "      <td>송파구</td>\n",
              "      <td>202107</td>\n",
              "      <td>658093</td>\n",
              "      <td>NaN</td>\n",
              "      <td>2021-07</td>\n",
              "    </tr>\n",
              "    <tr>\n",
              "      <th>174</th>\n",
              "      <td>2200</td>\n",
              "      <td>강동구</td>\n",
              "      <td>202107</td>\n",
              "      <td>465191</td>\n",
              "      <td>NaN</td>\n",
              "      <td>2021-07</td>\n",
              "    </tr>\n",
              "  </tbody>\n",
              "</table>\n",
              "<p>175 rows × 6 columns</p>\n",
              "</div>"
            ],
            "text/plain": [
              "     Unnamed: 0 atdrc_code_se  stdr_ym  tot_popltn_co  Unnamed: 4 Unnamed: 5\n",
              "0           901           종로구   202103         147296         NaN    2021-03\n",
              "1           902            중구   202103         124552         NaN    2021-03\n",
              "2           903           용산구   202103         229013         NaN    2021-03\n",
              "3           904           성동구   202103         291906         NaN    2021-03\n",
              "4           905           광진구   202103         343392         NaN    2021-03\n",
              "..          ...           ...      ...            ...         ...        ...\n",
              "170        2196           관악구   202107         488525         NaN    2021-07\n",
              "171        2197           서초구   202107         418294         NaN    2021-07\n",
              "172        2198           강남구   202107         530529         NaN    2021-07\n",
              "173        2199           송파구   202107         658093         NaN    2021-07\n",
              "174        2200           강동구   202107         465191         NaN    2021-07\n",
              "\n",
              "[175 rows x 6 columns]"
            ]
          },
          "metadata": {},
          "execution_count": 45
        }
      ]
    },
    {
      "cell_type": "markdown",
      "metadata": {
        "id": "qGhFYsYFICgd"
      },
      "source": [
        "# 데이터 처리"
      ]
    },
    {
      "cell_type": "code",
      "metadata": {
        "colab": {
          "base_uri": "https://localhost:8080/",
          "height": 419
        },
        "id": "Cty45VrWHd2A",
        "outputId": "8515f6d9-75d1-4bd2-eb7a-8345d81e9a1b"
      },
      "source": [
        "ppl_2021 = ppl_2021.drop(columns = ['Unnamed: 4','stdr_ym'],axis=1)\n",
        "ppl_2021"
      ],
      "execution_count": 46,
      "outputs": [
        {
          "output_type": "execute_result",
          "data": {
            "text/html": [
              "<div>\n",
              "<style scoped>\n",
              "    .dataframe tbody tr th:only-of-type {\n",
              "        vertical-align: middle;\n",
              "    }\n",
              "\n",
              "    .dataframe tbody tr th {\n",
              "        vertical-align: top;\n",
              "    }\n",
              "\n",
              "    .dataframe thead th {\n",
              "        text-align: right;\n",
              "    }\n",
              "</style>\n",
              "<table border=\"1\" class=\"dataframe\">\n",
              "  <thead>\n",
              "    <tr style=\"text-align: right;\">\n",
              "      <th></th>\n",
              "      <th>Unnamed: 0</th>\n",
              "      <th>atdrc_code_se</th>\n",
              "      <th>tot_popltn_co</th>\n",
              "      <th>Unnamed: 5</th>\n",
              "    </tr>\n",
              "  </thead>\n",
              "  <tbody>\n",
              "    <tr>\n",
              "      <th>0</th>\n",
              "      <td>901</td>\n",
              "      <td>종로구</td>\n",
              "      <td>147296</td>\n",
              "      <td>2021-03</td>\n",
              "    </tr>\n",
              "    <tr>\n",
              "      <th>1</th>\n",
              "      <td>902</td>\n",
              "      <td>중구</td>\n",
              "      <td>124552</td>\n",
              "      <td>2021-03</td>\n",
              "    </tr>\n",
              "    <tr>\n",
              "      <th>2</th>\n",
              "      <td>903</td>\n",
              "      <td>용산구</td>\n",
              "      <td>229013</td>\n",
              "      <td>2021-03</td>\n",
              "    </tr>\n",
              "    <tr>\n",
              "      <th>3</th>\n",
              "      <td>904</td>\n",
              "      <td>성동구</td>\n",
              "      <td>291906</td>\n",
              "      <td>2021-03</td>\n",
              "    </tr>\n",
              "    <tr>\n",
              "      <th>4</th>\n",
              "      <td>905</td>\n",
              "      <td>광진구</td>\n",
              "      <td>343392</td>\n",
              "      <td>2021-03</td>\n",
              "    </tr>\n",
              "    <tr>\n",
              "      <th>...</th>\n",
              "      <td>...</td>\n",
              "      <td>...</td>\n",
              "      <td>...</td>\n",
              "      <td>...</td>\n",
              "    </tr>\n",
              "    <tr>\n",
              "      <th>170</th>\n",
              "      <td>2196</td>\n",
              "      <td>관악구</td>\n",
              "      <td>488525</td>\n",
              "      <td>2021-07</td>\n",
              "    </tr>\n",
              "    <tr>\n",
              "      <th>171</th>\n",
              "      <td>2197</td>\n",
              "      <td>서초구</td>\n",
              "      <td>418294</td>\n",
              "      <td>2021-07</td>\n",
              "    </tr>\n",
              "    <tr>\n",
              "      <th>172</th>\n",
              "      <td>2198</td>\n",
              "      <td>강남구</td>\n",
              "      <td>530529</td>\n",
              "      <td>2021-07</td>\n",
              "    </tr>\n",
              "    <tr>\n",
              "      <th>173</th>\n",
              "      <td>2199</td>\n",
              "      <td>송파구</td>\n",
              "      <td>658093</td>\n",
              "      <td>2021-07</td>\n",
              "    </tr>\n",
              "    <tr>\n",
              "      <th>174</th>\n",
              "      <td>2200</td>\n",
              "      <td>강동구</td>\n",
              "      <td>465191</td>\n",
              "      <td>2021-07</td>\n",
              "    </tr>\n",
              "  </tbody>\n",
              "</table>\n",
              "<p>175 rows × 4 columns</p>\n",
              "</div>"
            ],
            "text/plain": [
              "     Unnamed: 0 atdrc_code_se  tot_popltn_co Unnamed: 5\n",
              "0           901           종로구         147296    2021-03\n",
              "1           902            중구         124552    2021-03\n",
              "2           903           용산구         229013    2021-03\n",
              "3           904           성동구         291906    2021-03\n",
              "4           905           광진구         343392    2021-03\n",
              "..          ...           ...            ...        ...\n",
              "170        2196           관악구         488525    2021-07\n",
              "171        2197           서초구         418294    2021-07\n",
              "172        2198           강남구         530529    2021-07\n",
              "173        2199           송파구         658093    2021-07\n",
              "174        2200           강동구         465191    2021-07\n",
              "\n",
              "[175 rows x 4 columns]"
            ]
          },
          "metadata": {},
          "execution_count": 46
        }
      ]
    },
    {
      "cell_type": "code",
      "metadata": {
        "id": "94lVWuR6Pm9x"
      },
      "source": [
        "ppl_2021 = ppl_2021.drop(columns = 'Unnamed: 0',axis=1)"
      ],
      "execution_count": 47,
      "outputs": []
    },
    {
      "cell_type": "code",
      "metadata": {
        "id": "28UnYpymPrWX"
      },
      "source": [
        "ppl_2021"
      ],
      "execution_count": null,
      "outputs": []
    },
    {
      "cell_type": "code",
      "metadata": {
        "colab": {
          "base_uri": "https://localhost:8080/",
          "height": 419
        },
        "id": "lk5k5RO5PvU_",
        "outputId": "37f777c6-6d88-4ddf-d816-2391ba70e641"
      },
      "source": [
        "ppl_2021_date = ppl_2021['Unnamed: 5']\n",
        "ppl_2021['월'] = ppl_2021_date\n",
        "ppl_2021"
      ],
      "execution_count": 50,
      "outputs": [
        {
          "output_type": "execute_result",
          "data": {
            "text/html": [
              "<div>\n",
              "<style scoped>\n",
              "    .dataframe tbody tr th:only-of-type {\n",
              "        vertical-align: middle;\n",
              "    }\n",
              "\n",
              "    .dataframe tbody tr th {\n",
              "        vertical-align: top;\n",
              "    }\n",
              "\n",
              "    .dataframe thead th {\n",
              "        text-align: right;\n",
              "    }\n",
              "</style>\n",
              "<table border=\"1\" class=\"dataframe\">\n",
              "  <thead>\n",
              "    <tr style=\"text-align: right;\">\n",
              "      <th></th>\n",
              "      <th>atdrc_code_se</th>\n",
              "      <th>tot_popltn_co</th>\n",
              "      <th>Unnamed: 5</th>\n",
              "      <th>월</th>\n",
              "    </tr>\n",
              "  </thead>\n",
              "  <tbody>\n",
              "    <tr>\n",
              "      <th>0</th>\n",
              "      <td>종로구</td>\n",
              "      <td>147296</td>\n",
              "      <td>2021-03</td>\n",
              "      <td>2021-03</td>\n",
              "    </tr>\n",
              "    <tr>\n",
              "      <th>1</th>\n",
              "      <td>중구</td>\n",
              "      <td>124552</td>\n",
              "      <td>2021-03</td>\n",
              "      <td>2021-03</td>\n",
              "    </tr>\n",
              "    <tr>\n",
              "      <th>2</th>\n",
              "      <td>용산구</td>\n",
              "      <td>229013</td>\n",
              "      <td>2021-03</td>\n",
              "      <td>2021-03</td>\n",
              "    </tr>\n",
              "    <tr>\n",
              "      <th>3</th>\n",
              "      <td>성동구</td>\n",
              "      <td>291906</td>\n",
              "      <td>2021-03</td>\n",
              "      <td>2021-03</td>\n",
              "    </tr>\n",
              "    <tr>\n",
              "      <th>4</th>\n",
              "      <td>광진구</td>\n",
              "      <td>343392</td>\n",
              "      <td>2021-03</td>\n",
              "      <td>2021-03</td>\n",
              "    </tr>\n",
              "    <tr>\n",
              "      <th>...</th>\n",
              "      <td>...</td>\n",
              "      <td>...</td>\n",
              "      <td>...</td>\n",
              "      <td>...</td>\n",
              "    </tr>\n",
              "    <tr>\n",
              "      <th>170</th>\n",
              "      <td>관악구</td>\n",
              "      <td>488525</td>\n",
              "      <td>2021-07</td>\n",
              "      <td>2021-07</td>\n",
              "    </tr>\n",
              "    <tr>\n",
              "      <th>171</th>\n",
              "      <td>서초구</td>\n",
              "      <td>418294</td>\n",
              "      <td>2021-07</td>\n",
              "      <td>2021-07</td>\n",
              "    </tr>\n",
              "    <tr>\n",
              "      <th>172</th>\n",
              "      <td>강남구</td>\n",
              "      <td>530529</td>\n",
              "      <td>2021-07</td>\n",
              "      <td>2021-07</td>\n",
              "    </tr>\n",
              "    <tr>\n",
              "      <th>173</th>\n",
              "      <td>송파구</td>\n",
              "      <td>658093</td>\n",
              "      <td>2021-07</td>\n",
              "      <td>2021-07</td>\n",
              "    </tr>\n",
              "    <tr>\n",
              "      <th>174</th>\n",
              "      <td>강동구</td>\n",
              "      <td>465191</td>\n",
              "      <td>2021-07</td>\n",
              "      <td>2021-07</td>\n",
              "    </tr>\n",
              "  </tbody>\n",
              "</table>\n",
              "<p>175 rows × 4 columns</p>\n",
              "</div>"
            ],
            "text/plain": [
              "    atdrc_code_se  tot_popltn_co Unnamed: 5        월\n",
              "0             종로구         147296    2021-03  2021-03\n",
              "1              중구         124552    2021-03  2021-03\n",
              "2             용산구         229013    2021-03  2021-03\n",
              "3             성동구         291906    2021-03  2021-03\n",
              "4             광진구         343392    2021-03  2021-03\n",
              "..            ...            ...        ...      ...\n",
              "170           관악구         488525    2021-07  2021-07\n",
              "171           서초구         418294    2021-07  2021-07\n",
              "172           강남구         530529    2021-07  2021-07\n",
              "173           송파구         658093    2021-07  2021-07\n",
              "174           강동구         465191    2021-07  2021-07\n",
              "\n",
              "[175 rows x 4 columns]"
            ]
          },
          "metadata": {},
          "execution_count": 50
        }
      ]
    },
    {
      "cell_type": "code",
      "metadata": {
        "colab": {
          "base_uri": "https://localhost:8080/",
          "height": 419
        },
        "id": "qD7woR48P7P-",
        "outputId": "f5f1f1a1-29b2-4e58-f4ff-b194c9d6b8b3"
      },
      "source": [
        "ppl_2021 = ppl_2021.drop(columns = 'Unnamed: 5',axis=1)\n",
        "ppl_2021"
      ],
      "execution_count": 52,
      "outputs": [
        {
          "output_type": "execute_result",
          "data": {
            "text/html": [
              "<div>\n",
              "<style scoped>\n",
              "    .dataframe tbody tr th:only-of-type {\n",
              "        vertical-align: middle;\n",
              "    }\n",
              "\n",
              "    .dataframe tbody tr th {\n",
              "        vertical-align: top;\n",
              "    }\n",
              "\n",
              "    .dataframe thead th {\n",
              "        text-align: right;\n",
              "    }\n",
              "</style>\n",
              "<table border=\"1\" class=\"dataframe\">\n",
              "  <thead>\n",
              "    <tr style=\"text-align: right;\">\n",
              "      <th></th>\n",
              "      <th>atdrc_code_se</th>\n",
              "      <th>tot_popltn_co</th>\n",
              "      <th>월</th>\n",
              "    </tr>\n",
              "  </thead>\n",
              "  <tbody>\n",
              "    <tr>\n",
              "      <th>0</th>\n",
              "      <td>종로구</td>\n",
              "      <td>147296</td>\n",
              "      <td>2021-03</td>\n",
              "    </tr>\n",
              "    <tr>\n",
              "      <th>1</th>\n",
              "      <td>중구</td>\n",
              "      <td>124552</td>\n",
              "      <td>2021-03</td>\n",
              "    </tr>\n",
              "    <tr>\n",
              "      <th>2</th>\n",
              "      <td>용산구</td>\n",
              "      <td>229013</td>\n",
              "      <td>2021-03</td>\n",
              "    </tr>\n",
              "    <tr>\n",
              "      <th>3</th>\n",
              "      <td>성동구</td>\n",
              "      <td>291906</td>\n",
              "      <td>2021-03</td>\n",
              "    </tr>\n",
              "    <tr>\n",
              "      <th>4</th>\n",
              "      <td>광진구</td>\n",
              "      <td>343392</td>\n",
              "      <td>2021-03</td>\n",
              "    </tr>\n",
              "    <tr>\n",
              "      <th>...</th>\n",
              "      <td>...</td>\n",
              "      <td>...</td>\n",
              "      <td>...</td>\n",
              "    </tr>\n",
              "    <tr>\n",
              "      <th>170</th>\n",
              "      <td>관악구</td>\n",
              "      <td>488525</td>\n",
              "      <td>2021-07</td>\n",
              "    </tr>\n",
              "    <tr>\n",
              "      <th>171</th>\n",
              "      <td>서초구</td>\n",
              "      <td>418294</td>\n",
              "      <td>2021-07</td>\n",
              "    </tr>\n",
              "    <tr>\n",
              "      <th>172</th>\n",
              "      <td>강남구</td>\n",
              "      <td>530529</td>\n",
              "      <td>2021-07</td>\n",
              "    </tr>\n",
              "    <tr>\n",
              "      <th>173</th>\n",
              "      <td>송파구</td>\n",
              "      <td>658093</td>\n",
              "      <td>2021-07</td>\n",
              "    </tr>\n",
              "    <tr>\n",
              "      <th>174</th>\n",
              "      <td>강동구</td>\n",
              "      <td>465191</td>\n",
              "      <td>2021-07</td>\n",
              "    </tr>\n",
              "  </tbody>\n",
              "</table>\n",
              "<p>175 rows × 3 columns</p>\n",
              "</div>"
            ],
            "text/plain": [
              "    atdrc_code_se  tot_popltn_co        월\n",
              "0             종로구         147296  2021-03\n",
              "1              중구         124552  2021-03\n",
              "2             용산구         229013  2021-03\n",
              "3             성동구         291906  2021-03\n",
              "4             광진구         343392  2021-03\n",
              "..            ...            ...      ...\n",
              "170           관악구         488525  2021-07\n",
              "171           서초구         418294  2021-07\n",
              "172           강남구         530529  2021-07\n",
              "173           송파구         658093  2021-07\n",
              "174           강동구         465191  2021-07\n",
              "\n",
              "[175 rows x 3 columns]"
            ]
          },
          "metadata": {},
          "execution_count": 52
        }
      ]
    },
    {
      "cell_type": "code",
      "metadata": {
        "id": "PkJMOz3SIA-K"
      },
      "source": [
        "ppl_2021_nd = ppl_2021['월']\n",
        "ppl_2021_nd = ppl_2021_nd.tolist()\n",
        "ppl_2021_nd\n",
        "\n",
        "for i in range(len(ppl_2021_nd)):\n",
        "  ppl_2021_nd[i] = str(ppl_2021_nd[i])\n",
        "  ppl_2021_nd[i] = ppl_2021_nd[i].split()\n",
        "  ppl_2021_nd[i].insert(4,'-15')\n",
        "  \n",
        "  ppl_2021_nd[i] = ''.join(ppl_2021_nd[i])\n",
        "\n",
        "  \n",
        "ppl_2021_nd"
      ],
      "execution_count": null,
      "outputs": []
    },
    {
      "cell_type": "code",
      "metadata": {
        "colab": {
          "base_uri": "https://localhost:8080/",
          "height": 419
        },
        "id": "_vUeT2A9QVBX",
        "outputId": "3da1e05a-f115-47ec-acbd-c637fbbe3c9f"
      },
      "source": [
        "ppl_2021['월'] = ppl_2021_nd\n",
        "ppl_2021"
      ],
      "execution_count": 55,
      "outputs": [
        {
          "output_type": "execute_result",
          "data": {
            "text/html": [
              "<div>\n",
              "<style scoped>\n",
              "    .dataframe tbody tr th:only-of-type {\n",
              "        vertical-align: middle;\n",
              "    }\n",
              "\n",
              "    .dataframe tbody tr th {\n",
              "        vertical-align: top;\n",
              "    }\n",
              "\n",
              "    .dataframe thead th {\n",
              "        text-align: right;\n",
              "    }\n",
              "</style>\n",
              "<table border=\"1\" class=\"dataframe\">\n",
              "  <thead>\n",
              "    <tr style=\"text-align: right;\">\n",
              "      <th></th>\n",
              "      <th>atdrc_code_se</th>\n",
              "      <th>tot_popltn_co</th>\n",
              "      <th>월</th>\n",
              "    </tr>\n",
              "  </thead>\n",
              "  <tbody>\n",
              "    <tr>\n",
              "      <th>0</th>\n",
              "      <td>종로구</td>\n",
              "      <td>147296</td>\n",
              "      <td>2021-03-15</td>\n",
              "    </tr>\n",
              "    <tr>\n",
              "      <th>1</th>\n",
              "      <td>중구</td>\n",
              "      <td>124552</td>\n",
              "      <td>2021-03-15</td>\n",
              "    </tr>\n",
              "    <tr>\n",
              "      <th>2</th>\n",
              "      <td>용산구</td>\n",
              "      <td>229013</td>\n",
              "      <td>2021-03-15</td>\n",
              "    </tr>\n",
              "    <tr>\n",
              "      <th>3</th>\n",
              "      <td>성동구</td>\n",
              "      <td>291906</td>\n",
              "      <td>2021-03-15</td>\n",
              "    </tr>\n",
              "    <tr>\n",
              "      <th>4</th>\n",
              "      <td>광진구</td>\n",
              "      <td>343392</td>\n",
              "      <td>2021-03-15</td>\n",
              "    </tr>\n",
              "    <tr>\n",
              "      <th>...</th>\n",
              "      <td>...</td>\n",
              "      <td>...</td>\n",
              "      <td>...</td>\n",
              "    </tr>\n",
              "    <tr>\n",
              "      <th>170</th>\n",
              "      <td>관악구</td>\n",
              "      <td>488525</td>\n",
              "      <td>2021-07-15</td>\n",
              "    </tr>\n",
              "    <tr>\n",
              "      <th>171</th>\n",
              "      <td>서초구</td>\n",
              "      <td>418294</td>\n",
              "      <td>2021-07-15</td>\n",
              "    </tr>\n",
              "    <tr>\n",
              "      <th>172</th>\n",
              "      <td>강남구</td>\n",
              "      <td>530529</td>\n",
              "      <td>2021-07-15</td>\n",
              "    </tr>\n",
              "    <tr>\n",
              "      <th>173</th>\n",
              "      <td>송파구</td>\n",
              "      <td>658093</td>\n",
              "      <td>2021-07-15</td>\n",
              "    </tr>\n",
              "    <tr>\n",
              "      <th>174</th>\n",
              "      <td>강동구</td>\n",
              "      <td>465191</td>\n",
              "      <td>2021-07-15</td>\n",
              "    </tr>\n",
              "  </tbody>\n",
              "</table>\n",
              "<p>175 rows × 3 columns</p>\n",
              "</div>"
            ],
            "text/plain": [
              "    atdrc_code_se  tot_popltn_co           월\n",
              "0             종로구         147296  2021-03-15\n",
              "1              중구         124552  2021-03-15\n",
              "2             용산구         229013  2021-03-15\n",
              "3             성동구         291906  2021-03-15\n",
              "4             광진구         343392  2021-03-15\n",
              "..            ...            ...         ...\n",
              "170           관악구         488525  2021-07-15\n",
              "171           서초구         418294  2021-07-15\n",
              "172           강남구         530529  2021-07-15\n",
              "173           송파구         658093  2021-07-15\n",
              "174           강동구         465191  2021-07-15\n",
              "\n",
              "[175 rows x 3 columns]"
            ]
          },
          "metadata": {},
          "execution_count": 55
        }
      ]
    },
    {
      "cell_type": "code",
      "metadata": {
        "id": "KHbQtkxtQU5S"
      },
      "source": [
        "ppl_2021.to_csv('/content/drive/MyDrive/빅캠공모전_data/ppl_2021_new.csv',encoding='cp949')"
      ],
      "execution_count": 57,
      "outputs": []
    },
    {
      "cell_type": "markdown",
      "metadata": {
        "id": "WGGThssJT8kT"
      },
      "source": [
        "# 구역 1"
      ]
    },
    {
      "cell_type": "code",
      "metadata": {
        "id": "DiOAcQR2UTDs"
      },
      "source": [
        "from pystan import StanModel\n",
        "from fbprophet import Prophet"
      ],
      "execution_count": 61,
      "outputs": []
    },
    {
      "cell_type": "markdown",
      "metadata": {
        "id": "N6Mta2luUA0W"
      },
      "source": [
        "## 서초구"
      ]
    },
    {
      "cell_type": "code",
      "metadata": {
        "colab": {
          "base_uri": "https://localhost:8080/",
          "height": 266
        },
        "id": "wTEMAmEaM4Fl",
        "outputId": "7e16e999-cfef-4bdd-9875-694b809cd6c3"
      },
      "source": [
        "seocho = ppl_2021[ppl_2021['atdrc_code_se'].str.contains('서초구')]\n",
        "seocho = seocho.sort_values('월')\n",
        "seocho = seocho.reset_index(drop=True)\n",
        "seocho = seocho.drop(columns = 'atdrc_code_se',axis=1)\n",
        "seocho = seocho.rename(columns={'tot_popltn_co': 'y','월':'ds'})\n",
        "seocho = seocho[['ds','y']]\n",
        "seocho"
      ],
      "execution_count": 60,
      "outputs": [
        {
          "output_type": "execute_result",
          "data": {
            "text/html": [
              "<div>\n",
              "<style scoped>\n",
              "    .dataframe tbody tr th:only-of-type {\n",
              "        vertical-align: middle;\n",
              "    }\n",
              "\n",
              "    .dataframe tbody tr th {\n",
              "        vertical-align: top;\n",
              "    }\n",
              "\n",
              "    .dataframe thead th {\n",
              "        text-align: right;\n",
              "    }\n",
              "</style>\n",
              "<table border=\"1\" class=\"dataframe\">\n",
              "  <thead>\n",
              "    <tr style=\"text-align: right;\">\n",
              "      <th></th>\n",
              "      <th>ds</th>\n",
              "      <th>y</th>\n",
              "    </tr>\n",
              "  </thead>\n",
              "  <tbody>\n",
              "    <tr>\n",
              "      <th>0</th>\n",
              "      <td>2021-01-15</td>\n",
              "      <td>424707</td>\n",
              "    </tr>\n",
              "    <tr>\n",
              "      <th>1</th>\n",
              "      <td>2021-02-15</td>\n",
              "      <td>423829</td>\n",
              "    </tr>\n",
              "    <tr>\n",
              "      <th>2</th>\n",
              "      <td>2021-03-15</td>\n",
              "      <td>421315</td>\n",
              "    </tr>\n",
              "    <tr>\n",
              "      <th>3</th>\n",
              "      <td>2021-04-15</td>\n",
              "      <td>420318</td>\n",
              "    </tr>\n",
              "    <tr>\n",
              "      <th>4</th>\n",
              "      <td>2021-05-15</td>\n",
              "      <td>419121</td>\n",
              "    </tr>\n",
              "    <tr>\n",
              "      <th>5</th>\n",
              "      <td>2021-06-15</td>\n",
              "      <td>418407</td>\n",
              "    </tr>\n",
              "    <tr>\n",
              "      <th>6</th>\n",
              "      <td>2021-07-15</td>\n",
              "      <td>418294</td>\n",
              "    </tr>\n",
              "  </tbody>\n",
              "</table>\n",
              "</div>"
            ],
            "text/plain": [
              "           ds       y\n",
              "0  2021-01-15  424707\n",
              "1  2021-02-15  423829\n",
              "2  2021-03-15  421315\n",
              "3  2021-04-15  420318\n",
              "4  2021-05-15  419121\n",
              "5  2021-06-15  418407\n",
              "6  2021-07-15  418294"
            ]
          },
          "metadata": {},
          "execution_count": 60
        }
      ]
    },
    {
      "cell_type": "code",
      "metadata": {
        "colab": {
          "base_uri": "https://localhost:8080/"
        },
        "id": "Qm8l8r1sUPRL",
        "outputId": "547b3f14-5e59-415d-c588-600be06496fd"
      },
      "source": [
        "m = Prophet()\n",
        "m.fit(seocho)"
      ],
      "execution_count": 62,
      "outputs": [
        {
          "output_type": "stream",
          "name": "stderr",
          "text": [
            "INFO:numexpr.utils:NumExpr defaulting to 2 threads.\n",
            "INFO:fbprophet:Disabling yearly seasonality. Run prophet with yearly_seasonality=True to override this.\n",
            "INFO:fbprophet:Disabling weekly seasonality. Run prophet with weekly_seasonality=True to override this.\n",
            "INFO:fbprophet:Disabling daily seasonality. Run prophet with daily_seasonality=True to override this.\n",
            "INFO:fbprophet:n_changepoints greater than number of observations. Using 4.\n"
          ]
        },
        {
          "output_type": "execute_result",
          "data": {
            "text/plain": [
              "<fbprophet.forecaster.Prophet at 0x7fea844d86d0>"
            ]
          },
          "metadata": {},
          "execution_count": 62
        }
      ]
    },
    {
      "cell_type": "code",
      "metadata": {
        "colab": {
          "base_uri": "https://localhost:8080/",
          "height": 441
        },
        "id": "PodInOO9VpnL",
        "outputId": "dd892d0e-7345-469a-c171-8733b47b5062"
      },
      "source": [
        "future_data = m.make_future_dataframe(periods=7,freq='MS')\n",
        "\n",
        "forecast_data = m.predict(future_data)\n",
        "fig1 = m.plot(forecast_data,xlabel='월',ylabel='인구 수')"
      ],
      "execution_count": 64,
      "outputs": [
        {
          "output_type": "display_data",
          "data": {
            "image/png": "[encoded data removed]",
            "text/plain": [
              "<Figure size 720x432 with 1 Axes>"
            ]
          },
          "metadata": {}
        }
      ]
    },
    {
      "cell_type": "markdown",
      "metadata": {
        "id": "8VZDgBiiWiC0"
      },
      "source": [
        "## 강남구"
      ]
    },
    {
      "cell_type": "code",
      "metadata": {
        "colab": {
          "base_uri": "https://localhost:8080/",
          "height": 266
        },
        "id": "Lg5RNWQmV6gj",
        "outputId": "5504e947-0745-46de-9564-f3a9185b4a9a"
      },
      "source": [
        "gangnam = ppl_2021[ppl_2021['atdrc_code_se'].str.contains('강남구')]\n",
        "gangnam = gangnam.sort_values('월')\n",
        "gangnam = gangnam.reset_index(drop=True)\n",
        "gangnam = gangnam.drop(columns = 'atdrc_code_se',axis=1)\n",
        "gangnam = gangnam.rename(columns={'tot_popltn_co': 'y','월':'ds'})\n",
        "gangnam = gangnam[['ds','y']]\n",
        "gangnam"
      ],
      "execution_count": 65,
      "outputs": [
        {
          "output_type": "execute_result",
          "data": {
            "text/html": [
              "<div>\n",
              "<style scoped>\n",
              "    .dataframe tbody tr th:only-of-type {\n",
              "        vertical-align: middle;\n",
              "    }\n",
              "\n",
              "    .dataframe tbody tr th {\n",
              "        vertical-align: top;\n",
              "    }\n",
              "\n",
              "    .dataframe thead th {\n",
              "        text-align: right;\n",
              "    }\n",
              "</style>\n",
              "<table border=\"1\" class=\"dataframe\">\n",
              "  <thead>\n",
              "    <tr style=\"text-align: right;\">\n",
              "      <th></th>\n",
              "      <th>ds</th>\n",
              "      <th>y</th>\n",
              "    </tr>\n",
              "  </thead>\n",
              "  <tbody>\n",
              "    <tr>\n",
              "      <th>0</th>\n",
              "      <td>2021-01-15</td>\n",
              "      <td>538536</td>\n",
              "    </tr>\n",
              "    <tr>\n",
              "      <th>1</th>\n",
              "      <td>2021-02-15</td>\n",
              "      <td>537879</td>\n",
              "    </tr>\n",
              "    <tr>\n",
              "      <th>2</th>\n",
              "      <td>2021-03-15</td>\n",
              "      <td>534796</td>\n",
              "    </tr>\n",
              "    <tr>\n",
              "      <th>3</th>\n",
              "      <td>2021-04-15</td>\n",
              "      <td>533579</td>\n",
              "    </tr>\n",
              "    <tr>\n",
              "      <th>4</th>\n",
              "      <td>2021-05-15</td>\n",
              "      <td>532296</td>\n",
              "    </tr>\n",
              "    <tr>\n",
              "      <th>5</th>\n",
              "      <td>2021-06-15</td>\n",
              "      <td>531375</td>\n",
              "    </tr>\n",
              "    <tr>\n",
              "      <th>6</th>\n",
              "      <td>2021-07-15</td>\n",
              "      <td>530529</td>\n",
              "    </tr>\n",
              "  </tbody>\n",
              "</table>\n",
              "</div>"
            ],
            "text/plain": [
              "           ds       y\n",
              "0  2021-01-15  538536\n",
              "1  2021-02-15  537879\n",
              "2  2021-03-15  534796\n",
              "3  2021-04-15  533579\n",
              "4  2021-05-15  532296\n",
              "5  2021-06-15  531375\n",
              "6  2021-07-15  530529"
            ]
          },
          "metadata": {},
          "execution_count": 65
        }
      ]
    },
    {
      "cell_type": "code",
      "metadata": {
        "colab": {
          "base_uri": "https://localhost:8080/",
          "height": 513
        },
        "id": "eqeNn7Z6W8hL",
        "outputId": "06b09647-b895-47aa-fe45-145c142ac19e"
      },
      "source": [
        "m = Prophet()\n",
        "m.fit(gangnam)\n",
        "\n",
        "future_data = m.make_future_dataframe(periods=7,freq='MS')\n",
        "\n",
        "forecast_data = m.predict(future_data)\n",
        "fig1 = m.plot(forecast_data,xlabel='월',ylabel='인구 수')"
      ],
      "execution_count": 67,
      "outputs": [
        {
          "output_type": "stream",
          "name": "stderr",
          "text": [
            "INFO:fbprophet:Disabling yearly seasonality. Run prophet with yearly_seasonality=True to override this.\n",
            "INFO:fbprophet:Disabling weekly seasonality. Run prophet with weekly_seasonality=True to override this.\n",
            "INFO:fbprophet:Disabling daily seasonality. Run prophet with daily_seasonality=True to override this.\n",
            "INFO:fbprophet:n_changepoints greater than number of observations. Using 4.\n"
          ]
        },
        {
          "output_type": "display_data",
          "data": {
            "image/png": "[encoded data removed]",
            "text/plain": [
              "<Figure size 720x432 with 1 Axes>"
            ]
          },
          "metadata": {}
        }
      ]
    },
    {
      "cell_type": "code",
      "metadata": {
        "id": "KGBAYLVTW_Fr"
      },
      "source": [
        ""
      ],
      "execution_count": null,
      "outputs": []
    },
    {
      "cell_type": "markdown",
      "metadata": {
        "id": "s4-OhSQ7XRCL"
      },
      "source": [
        "## 송파구"
      ]
    },
    {
      "cell_type": "code",
      "metadata": {
        "colab": {
          "base_uri": "https://localhost:8080/",
          "height": 266
        },
        "id": "f95r-R_oXR1v",
        "outputId": "cfd73dbd-fe3d-4576-abc1-0b28d02f3ee8"
      },
      "source": [
        "songpa = ppl_2021[ppl_2021['atdrc_code_se'].str.contains('송파구')]\n",
        "songpa = songpa.sort_values('월')\n",
        "songpa = songpa.reset_index(drop=True)\n",
        "songpa = songpa.drop(columns = 'atdrc_code_se',axis=1)\n",
        "songpa = songpa.rename(columns={'tot_popltn_co': 'y','월':'ds'})\n",
        "songpa = songpa[['ds','y']]\n",
        "songpa"
      ],
      "execution_count": 68,
      "outputs": [
        {
          "output_type": "execute_result",
          "data": {
            "text/html": [
              "<div>\n",
              "<style scoped>\n",
              "    .dataframe tbody tr th:only-of-type {\n",
              "        vertical-align: middle;\n",
              "    }\n",
              "\n",
              "    .dataframe tbody tr th {\n",
              "        vertical-align: top;\n",
              "    }\n",
              "\n",
              "    .dataframe thead th {\n",
              "        text-align: right;\n",
              "    }\n",
              "</style>\n",
              "<table border=\"1\" class=\"dataframe\">\n",
              "  <thead>\n",
              "    <tr style=\"text-align: right;\">\n",
              "      <th></th>\n",
              "      <th>ds</th>\n",
              "      <th>y</th>\n",
              "    </tr>\n",
              "  </thead>\n",
              "  <tbody>\n",
              "    <tr>\n",
              "      <th>0</th>\n",
              "      <td>2021-01-15</td>\n",
              "      <td>667222</td>\n",
              "    </tr>\n",
              "    <tr>\n",
              "      <th>1</th>\n",
              "      <td>2021-02-15</td>\n",
              "      <td>665463</td>\n",
              "    </tr>\n",
              "    <tr>\n",
              "      <th>2</th>\n",
              "      <td>2021-03-15</td>\n",
              "      <td>661411</td>\n",
              "    </tr>\n",
              "    <tr>\n",
              "      <th>3</th>\n",
              "      <td>2021-04-15</td>\n",
              "      <td>660160</td>\n",
              "    </tr>\n",
              "    <tr>\n",
              "      <th>4</th>\n",
              "      <td>2021-05-15</td>\n",
              "      <td>659446</td>\n",
              "    </tr>\n",
              "    <tr>\n",
              "      <th>5</th>\n",
              "      <td>2021-06-15</td>\n",
              "      <td>658670</td>\n",
              "    </tr>\n",
              "    <tr>\n",
              "      <th>6</th>\n",
              "      <td>2021-07-15</td>\n",
              "      <td>658093</td>\n",
              "    </tr>\n",
              "  </tbody>\n",
              "</table>\n",
              "</div>"
            ],
            "text/plain": [
              "           ds       y\n",
              "0  2021-01-15  667222\n",
              "1  2021-02-15  665463\n",
              "2  2021-03-15  661411\n",
              "3  2021-04-15  660160\n",
              "4  2021-05-15  659446\n",
              "5  2021-06-15  658670\n",
              "6  2021-07-15  658093"
            ]
          },
          "metadata": {},
          "execution_count": 68
        }
      ]
    },
    {
      "cell_type": "code",
      "metadata": {
        "colab": {
          "base_uri": "https://localhost:8080/",
          "height": 513
        },
        "id": "vwxYcoxlXShK",
        "outputId": "2522e383-2940-4a38-ebf0-56b64cd049c8"
      },
      "source": [
        "m = Prophet()\n",
        "m.fit(songpa)\n",
        "\n",
        "future_data = m.make_future_dataframe(periods=7,freq='MS')\n",
        "\n",
        "forecast_data = m.predict(future_data)\n",
        "fig1 = m.plot(forecast_data,xlabel='월',ylabel='인구 수')\n"
      ],
      "execution_count": 69,
      "outputs": [
        {
          "output_type": "stream",
          "name": "stderr",
          "text": [
            "INFO:fbprophet:Disabling yearly seasonality. Run prophet with yearly_seasonality=True to override this.\n",
            "INFO:fbprophet:Disabling weekly seasonality. Run prophet with weekly_seasonality=True to override this.\n",
            "INFO:fbprophet:Disabling daily seasonality. Run prophet with daily_seasonality=True to override this.\n",
            "INFO:fbprophet:n_changepoints greater than number of observations. Using 4.\n"
          ]
        },
        {
          "output_type": "display_data",
          "data": {
            "image/png": "[encoded data removed]",
            "text/plain": [
              "<Figure size 720x432 with 1 Axes>"
            ]
          },
          "metadata": {}
        }
      ]
    },
    {
      "cell_type": "markdown",
      "metadata": {
        "id": "cfR9TRb8XlWd"
      },
      "source": [
        "## 강동구"
      ]
    },
    {
      "cell_type": "code",
      "metadata": {
        "colab": {
          "base_uri": "https://localhost:8080/",
          "height": 266
        },
        "id": "4A1W4xKbXWON",
        "outputId": "738f993a-fd14-4d08-8760-013cb7097db6"
      },
      "source": [
        "gangdong = ppl_2021[ppl_2021['atdrc_code_se'].str.contains('강동구')]\n",
        "gangdong = gangdong.sort_values('월')\n",
        "gangdong = gangdong.reset_index(drop=True)\n",
        "gangdong = gangdong.drop(columns = 'atdrc_code_se',axis=1)\n",
        "gangdong = gangdong.rename(columns={'tot_popltn_co': 'y','월':'ds'})\n",
        "gangdong = gangdong[['ds','y']]\n",
        "gangdong"
      ],
      "execution_count": 70,
      "outputs": [
        {
          "output_type": "execute_result",
          "data": {
            "text/html": [
              "<div>\n",
              "<style scoped>\n",
              "    .dataframe tbody tr th:only-of-type {\n",
              "        vertical-align: middle;\n",
              "    }\n",
              "\n",
              "    .dataframe tbody tr th {\n",
              "        vertical-align: top;\n",
              "    }\n",
              "\n",
              "    .dataframe thead th {\n",
              "        text-align: right;\n",
              "    }\n",
              "</style>\n",
              "<table border=\"1\" class=\"dataframe\">\n",
              "  <thead>\n",
              "    <tr style=\"text-align: right;\">\n",
              "      <th></th>\n",
              "      <th>ds</th>\n",
              "      <th>y</th>\n",
              "    </tr>\n",
              "  </thead>\n",
              "  <tbody>\n",
              "    <tr>\n",
              "      <th>0</th>\n",
              "      <td>2021-01-15</td>\n",
              "      <td>461334</td>\n",
              "    </tr>\n",
              "    <tr>\n",
              "      <th>1</th>\n",
              "      <td>2021-02-15</td>\n",
              "      <td>464208</td>\n",
              "    </tr>\n",
              "    <tr>\n",
              "      <th>2</th>\n",
              "      <td>2021-03-15</td>\n",
              "      <td>464900</td>\n",
              "    </tr>\n",
              "    <tr>\n",
              "      <th>3</th>\n",
              "      <td>2021-04-15</td>\n",
              "      <td>465331</td>\n",
              "    </tr>\n",
              "    <tr>\n",
              "      <th>4</th>\n",
              "      <td>2021-05-15</td>\n",
              "      <td>465459</td>\n",
              "    </tr>\n",
              "    <tr>\n",
              "      <th>5</th>\n",
              "      <td>2021-06-15</td>\n",
              "      <td>465209</td>\n",
              "    </tr>\n",
              "    <tr>\n",
              "      <th>6</th>\n",
              "      <td>2021-07-15</td>\n",
              "      <td>465191</td>\n",
              "    </tr>\n",
              "  </tbody>\n",
              "</table>\n",
              "</div>"
            ],
            "text/plain": [
              "           ds       y\n",
              "0  2021-01-15  461334\n",
              "1  2021-02-15  464208\n",
              "2  2021-03-15  464900\n",
              "3  2021-04-15  465331\n",
              "4  2021-05-15  465459\n",
              "5  2021-06-15  465209\n",
              "6  2021-07-15  465191"
            ]
          },
          "metadata": {},
          "execution_count": 70
        }
      ]
    },
    {
      "cell_type": "code",
      "metadata": {
        "colab": {
          "base_uri": "https://localhost:8080/",
          "height": 513
        },
        "id": "wafXmVRWXmnX",
        "outputId": "620caa47-9db8-49b2-8b4a-230aacd8cb00"
      },
      "source": [
        "m = Prophet()\n",
        "m.fit(gangdong)\n",
        "\n",
        "future_data = m.make_future_dataframe(periods=7,freq='MS')\n",
        "\n",
        "forecast_data = m.predict(future_data)\n",
        "fig1 = m.plot(forecast_data,xlabel='월',ylabel='인구 수')"
      ],
      "execution_count": 71,
      "outputs": [
        {
          "output_type": "stream",
          "name": "stderr",
          "text": [
            "INFO:fbprophet:Disabling yearly seasonality. Run prophet with yearly_seasonality=True to override this.\n",
            "INFO:fbprophet:Disabling weekly seasonality. Run prophet with weekly_seasonality=True to override this.\n",
            "INFO:fbprophet:Disabling daily seasonality. Run prophet with daily_seasonality=True to override this.\n",
            "INFO:fbprophet:n_changepoints greater than number of observations. Using 4.\n"
          ]
        },
        {
          "output_type": "display_data",
          "data": {
            "image/png": "[encoded data removed]",
            "text/plain": [
              "<Figure size 720x432 with 1 Axes>"
            ]
          },
          "metadata": {}
        }
      ]
    },
    {
      "cell_type": "markdown",
      "metadata": {
        "id": "DXfnKKydX2nU"
      },
      "source": [
        "## 동작구"
      ]
    },
    {
      "cell_type": "code",
      "metadata": {
        "colab": {
          "base_uri": "https://localhost:8080/",
          "height": 266
        },
        "id": "dzzyETH1XoYW",
        "outputId": "c9b18e94-b97b-4a7f-bee1-906eb986267f"
      },
      "source": [
        "dongjak = ppl_2021[ppl_2021['atdrc_code_se'].str.contains('동작구')]\n",
        "dongjak = dongjak.sort_values('월')\n",
        "dongjak = dongjak.reset_index(drop=True)\n",
        "dongjak = dongjak.drop(columns = 'atdrc_code_se',axis=1)\n",
        "dongjak = dongjak.rename(columns={'tot_popltn_co': 'y','월':'ds'})\n",
        "dongjak = dongjak[['ds','y']]\n",
        "dongjak"
      ],
      "execution_count": 72,
      "outputs": [
        {
          "output_type": "execute_result",
          "data": {
            "text/html": [
              "<div>\n",
              "<style scoped>\n",
              "    .dataframe tbody tr th:only-of-type {\n",
              "        vertical-align: middle;\n",
              "    }\n",
              "\n",
              "    .dataframe tbody tr th {\n",
              "        vertical-align: top;\n",
              "    }\n",
              "\n",
              "    .dataframe thead th {\n",
              "        text-align: right;\n",
              "    }\n",
              "</style>\n",
              "<table border=\"1\" class=\"dataframe\">\n",
              "  <thead>\n",
              "    <tr style=\"text-align: right;\">\n",
              "      <th></th>\n",
              "      <th>ds</th>\n",
              "      <th>y</th>\n",
              "    </tr>\n",
              "  </thead>\n",
              "  <tbody>\n",
              "    <tr>\n",
              "      <th>0</th>\n",
              "      <td>2021-01-15</td>\n",
              "      <td>390433</td>\n",
              "    </tr>\n",
              "    <tr>\n",
              "      <th>1</th>\n",
              "      <td>2021-02-15</td>\n",
              "      <td>389754</td>\n",
              "    </tr>\n",
              "    <tr>\n",
              "      <th>2</th>\n",
              "      <td>2021-03-15</td>\n",
              "      <td>388730</td>\n",
              "    </tr>\n",
              "    <tr>\n",
              "      <th>3</th>\n",
              "      <td>2021-04-15</td>\n",
              "      <td>388672</td>\n",
              "    </tr>\n",
              "    <tr>\n",
              "      <th>4</th>\n",
              "      <td>2021-05-15</td>\n",
              "      <td>388396</td>\n",
              "    </tr>\n",
              "    <tr>\n",
              "      <th>5</th>\n",
              "      <td>2021-06-15</td>\n",
              "      <td>387847</td>\n",
              "    </tr>\n",
              "    <tr>\n",
              "      <th>6</th>\n",
              "      <td>2021-07-15</td>\n",
              "      <td>387810</td>\n",
              "    </tr>\n",
              "  </tbody>\n",
              "</table>\n",
              "</div>"
            ],
            "text/plain": [
              "           ds       y\n",
              "0  2021-01-15  390433\n",
              "1  2021-02-15  389754\n",
              "2  2021-03-15  388730\n",
              "3  2021-04-15  388672\n",
              "4  2021-05-15  388396\n",
              "5  2021-06-15  387847\n",
              "6  2021-07-15  387810"
            ]
          },
          "metadata": {},
          "execution_count": 72
        }
      ]
    },
    {
      "cell_type": "code",
      "metadata": {
        "colab": {
          "base_uri": "https://localhost:8080/",
          "height": 513
        },
        "id": "0mrW8CKeX5hc",
        "outputId": "76c33997-fee5-45d4-dcde-118b8877143e"
      },
      "source": [
        "m = Prophet()\n",
        "m.fit(dongjak)\n",
        "\n",
        "future_data = m.make_future_dataframe(periods=7,freq='MS')\n",
        "\n",
        "forecast_data = m.predict(future_data)\n",
        "fig1 = m.plot(forecast_data,xlabel='월',ylabel='인구 수')"
      ],
      "execution_count": 73,
      "outputs": [
        {
          "output_type": "stream",
          "name": "stderr",
          "text": [
            "INFO:fbprophet:Disabling yearly seasonality. Run prophet with yearly_seasonality=True to override this.\n",
            "INFO:fbprophet:Disabling weekly seasonality. Run prophet with weekly_seasonality=True to override this.\n",
            "INFO:fbprophet:Disabling daily seasonality. Run prophet with daily_seasonality=True to override this.\n",
            "INFO:fbprophet:n_changepoints greater than number of observations. Using 4.\n"
          ]
        },
        {
          "output_type": "display_data",
          "data": {
            "image/png": "[encoded data removed]",
            "text/plain": [
              "<Figure size 720x432 with 1 Axes>"
            ]
          },
          "metadata": {}
        }
      ]
    },
    {
      "cell_type": "code",
      "metadata": {
        "id": "8Bpe2AG8X7VA"
      },
      "source": [
        ""
      ],
      "execution_count": null,
      "outputs": []
    },
    {
      "cell_type": "markdown",
      "metadata": {
        "id": "5-DFFTP9YPiR"
      },
      "source": [
        "# 구역 2"
      ]
    },
    {
      "cell_type": "markdown",
      "metadata": {
        "id": "rpXCQjrzYcob"
      },
      "source": [
        "## 강서구"
      ]
    },
    {
      "cell_type": "code",
      "metadata": {
        "colab": {
          "base_uri": "https://localhost:8080/",
          "height": 266
        },
        "id": "yfDqfLXmYQko",
        "outputId": "653ddb23-0788-43f4-f5c5-fd604a6856a3"
      },
      "source": [
        "gangseo = ppl_2021[ppl_2021['atdrc_code_se'].str.contains('강서구')]\n",
        "gangseo = gangseo.sort_values('월')\n",
        "gangseo = gangseo.reset_index(drop=True)\n",
        "gangseo = gangseo.drop(columns = 'atdrc_code_se',axis=1)\n",
        "gangseo = gangseo.rename(columns={'tot_popltn_co': 'y','월':'ds'})\n",
        "gangseo = gangseo[['ds','y']]\n",
        "gangseo"
      ],
      "execution_count": 74,
      "outputs": [
        {
          "output_type": "execute_result",
          "data": {
            "text/html": [
              "<div>\n",
              "<style scoped>\n",
              "    .dataframe tbody tr th:only-of-type {\n",
              "        vertical-align: middle;\n",
              "    }\n",
              "\n",
              "    .dataframe tbody tr th {\n",
              "        vertical-align: top;\n",
              "    }\n",
              "\n",
              "    .dataframe thead th {\n",
              "        text-align: right;\n",
              "    }\n",
              "</style>\n",
              "<table border=\"1\" class=\"dataframe\">\n",
              "  <thead>\n",
              "    <tr style=\"text-align: right;\">\n",
              "      <th></th>\n",
              "      <th>ds</th>\n",
              "      <th>y</th>\n",
              "    </tr>\n",
              "  </thead>\n",
              "  <tbody>\n",
              "    <tr>\n",
              "      <th>0</th>\n",
              "      <td>2021-01-15</td>\n",
              "      <td>579176</td>\n",
              "    </tr>\n",
              "    <tr>\n",
              "      <th>1</th>\n",
              "      <td>2021-02-15</td>\n",
              "      <td>579082</td>\n",
              "    </tr>\n",
              "    <tr>\n",
              "      <th>2</th>\n",
              "      <td>2021-03-15</td>\n",
              "      <td>577320</td>\n",
              "    </tr>\n",
              "    <tr>\n",
              "      <th>3</th>\n",
              "      <td>2021-04-15</td>\n",
              "      <td>577580</td>\n",
              "    </tr>\n",
              "    <tr>\n",
              "      <th>4</th>\n",
              "      <td>2021-05-15</td>\n",
              "      <td>577484</td>\n",
              "    </tr>\n",
              "    <tr>\n",
              "      <th>5</th>\n",
              "      <td>2021-06-15</td>\n",
              "      <td>577519</td>\n",
              "    </tr>\n",
              "    <tr>\n",
              "      <th>6</th>\n",
              "      <td>2021-07-15</td>\n",
              "      <td>577058</td>\n",
              "    </tr>\n",
              "  </tbody>\n",
              "</table>\n",
              "</div>"
            ],
            "text/plain": [
              "           ds       y\n",
              "0  2021-01-15  579176\n",
              "1  2021-02-15  579082\n",
              "2  2021-03-15  577320\n",
              "3  2021-04-15  577580\n",
              "4  2021-05-15  577484\n",
              "5  2021-06-15  577519\n",
              "6  2021-07-15  577058"
            ]
          },
          "metadata": {},
          "execution_count": 74
        }
      ]
    },
    {
      "cell_type": "code",
      "metadata": {
        "colab": {
          "base_uri": "https://localhost:8080/",
          "height": 513
        },
        "id": "HoRnMo11Z5o_",
        "outputId": "b5c8f301-faba-4bbe-f3f7-cac3d8b5ca33"
      },
      "source": [
        "m = Prophet()\n",
        "m.fit(gangseo)\n",
        "\n",
        "future_data = m.make_future_dataframe(periods=7,freq='MS')\n",
        "\n",
        "forecast_data = m.predict(future_data)\n",
        "fig1 = m.plot(forecast_data,xlabel='월',ylabel='인구 수')\n"
      ],
      "execution_count": 75,
      "outputs": [
        {
          "output_type": "stream",
          "name": "stderr",
          "text": [
            "INFO:fbprophet:Disabling yearly seasonality. Run prophet with yearly_seasonality=True to override this.\n",
            "INFO:fbprophet:Disabling weekly seasonality. Run prophet with weekly_seasonality=True to override this.\n",
            "INFO:fbprophet:Disabling daily seasonality. Run prophet with daily_seasonality=True to override this.\n",
            "INFO:fbprophet:n_changepoints greater than number of observations. Using 4.\n"
          ]
        },
        {
          "output_type": "display_data",
          "data": {
            "image/png": "[encoded data removed]",
            "text/plain": [
              "<Figure size 720x432 with 1 Axes>"
            ]
          },
          "metadata": {}
        }
      ]
    },
    {
      "cell_type": "code",
      "metadata": {
        "id": "XxDjrOz2Z8D4"
      },
      "source": [
        ""
      ],
      "execution_count": null,
      "outputs": []
    },
    {
      "cell_type": "markdown",
      "metadata": {
        "id": "X6Air346aTXG"
      },
      "source": [
        "## 양천구"
      ]
    },
    {
      "cell_type": "code",
      "metadata": {
        "colab": {
          "base_uri": "https://localhost:8080/",
          "height": 266
        },
        "id": "4HOmu_4baU_b",
        "outputId": "7da270cf-b118-474c-b1aa-133a0fd2e248"
      },
      "source": [
        "yangcheon = ppl_2021[ppl_2021['atdrc_code_se'].str.contains('양천구')]\n",
        "yangcheon = yangcheon.sort_values('월')\n",
        "yangcheon = yangcheon.reset_index(drop=True)\n",
        "yangcheon = yangcheon.drop(columns = 'atdrc_code_se',axis=1)\n",
        "yangcheon = yangcheon.rename(columns={'tot_popltn_co': 'y','월':'ds'})\n",
        "yangcheon = yangcheon[['ds','y']]\n",
        "yangcheon"
      ],
      "execution_count": 76,
      "outputs": [
        {
          "output_type": "execute_result",
          "data": {
            "text/html": [
              "<div>\n",
              "<style scoped>\n",
              "    .dataframe tbody tr th:only-of-type {\n",
              "        vertical-align: middle;\n",
              "    }\n",
              "\n",
              "    .dataframe tbody tr th {\n",
              "        vertical-align: top;\n",
              "    }\n",
              "\n",
              "    .dataframe thead th {\n",
              "        text-align: right;\n",
              "    }\n",
              "</style>\n",
              "<table border=\"1\" class=\"dataframe\">\n",
              "  <thead>\n",
              "    <tr style=\"text-align: right;\">\n",
              "      <th></th>\n",
              "      <th>ds</th>\n",
              "      <th>y</th>\n",
              "    </tr>\n",
              "  </thead>\n",
              "  <tbody>\n",
              "    <tr>\n",
              "      <th>0</th>\n",
              "      <td>2021-01-15</td>\n",
              "      <td>453382</td>\n",
              "    </tr>\n",
              "    <tr>\n",
              "      <th>1</th>\n",
              "      <td>2021-02-15</td>\n",
              "      <td>454270</td>\n",
              "    </tr>\n",
              "    <tr>\n",
              "      <th>2</th>\n",
              "      <td>2021-03-15</td>\n",
              "      <td>452677</td>\n",
              "    </tr>\n",
              "    <tr>\n",
              "      <th>3</th>\n",
              "      <td>2021-04-15</td>\n",
              "      <td>452112</td>\n",
              "    </tr>\n",
              "    <tr>\n",
              "      <th>4</th>\n",
              "      <td>2021-05-15</td>\n",
              "      <td>451541</td>\n",
              "    </tr>\n",
              "    <tr>\n",
              "      <th>5</th>\n",
              "      <td>2021-06-15</td>\n",
              "      <td>450992</td>\n",
              "    </tr>\n",
              "    <tr>\n",
              "      <th>6</th>\n",
              "      <td>2021-07-15</td>\n",
              "      <td>450431</td>\n",
              "    </tr>\n",
              "  </tbody>\n",
              "</table>\n",
              "</div>"
            ],
            "text/plain": [
              "           ds       y\n",
              "0  2021-01-15  453382\n",
              "1  2021-02-15  454270\n",
              "2  2021-03-15  452677\n",
              "3  2021-04-15  452112\n",
              "4  2021-05-15  451541\n",
              "5  2021-06-15  450992\n",
              "6  2021-07-15  450431"
            ]
          },
          "metadata": {},
          "execution_count": 76
        }
      ]
    },
    {
      "cell_type": "code",
      "metadata": {
        "colab": {
          "base_uri": "https://localhost:8080/",
          "height": 513
        },
        "id": "SFyu-uIaahXF",
        "outputId": "12afe3b4-c1f4-4e15-bcc8-72b84dc4e414"
      },
      "source": [
        "m = Prophet()\n",
        "m.fit(yangcheon)\n",
        "\n",
        "future_data = m.make_future_dataframe(periods=7,freq='MS')\n",
        "\n",
        "forecast_data = m.predict(future_data)\n",
        "fig1 = m.plot(forecast_data,xlabel='월',ylabel='인구 수')"
      ],
      "execution_count": 77,
      "outputs": [
        {
          "output_type": "stream",
          "name": "stderr",
          "text": [
            "INFO:fbprophet:Disabling yearly seasonality. Run prophet with yearly_seasonality=True to override this.\n",
            "INFO:fbprophet:Disabling weekly seasonality. Run prophet with weekly_seasonality=True to override this.\n",
            "INFO:fbprophet:Disabling daily seasonality. Run prophet with daily_seasonality=True to override this.\n",
            "INFO:fbprophet:n_changepoints greater than number of observations. Using 4.\n"
          ]
        },
        {
          "output_type": "display_data",
          "data": {
            "image/png": "[encoded data removed]",
            "text/plain": [
              "<Figure size 720x432 with 1 Axes>"
            ]
          },
          "metadata": {}
        }
      ]
    },
    {
      "cell_type": "code",
      "metadata": {
        "id": "HJKwp-55ajW-"
      },
      "source": [
        ""
      ],
      "execution_count": null,
      "outputs": []
    },
    {
      "cell_type": "markdown",
      "metadata": {
        "id": "doSR1Aohamxh"
      },
      "source": [
        "## 구로구"
      ]
    },
    {
      "cell_type": "code",
      "metadata": {
        "colab": {
          "base_uri": "https://localhost:8080/",
          "height": 266
        },
        "id": "EAfY8d2AaqW9",
        "outputId": "fbb17e80-2d8f-472d-e737-e8a33e13f67d"
      },
      "source": [
        "guro = ppl_2021[ppl_2021['atdrc_code_se'].str.contains('구로구')]\n",
        "guro = guro.sort_values('월')\n",
        "guro = guro.reset_index(drop=True)\n",
        "guro = guro.drop(columns = 'atdrc_code_se',axis=1)\n",
        "guro = guro.rename(columns={'tot_popltn_co': 'y','월':'ds'})\n",
        "guro = guro[['ds','y']]\n",
        "guro"
      ],
      "execution_count": 80,
      "outputs": [
        {
          "output_type": "execute_result",
          "data": {
            "text/html": [
              "<div>\n",
              "<style scoped>\n",
              "    .dataframe tbody tr th:only-of-type {\n",
              "        vertical-align: middle;\n",
              "    }\n",
              "\n",
              "    .dataframe tbody tr th {\n",
              "        vertical-align: top;\n",
              "    }\n",
              "\n",
              "    .dataframe thead th {\n",
              "        text-align: right;\n",
              "    }\n",
              "</style>\n",
              "<table border=\"1\" class=\"dataframe\">\n",
              "  <thead>\n",
              "    <tr style=\"text-align: right;\">\n",
              "      <th></th>\n",
              "      <th>ds</th>\n",
              "      <th>y</th>\n",
              "    </tr>\n",
              "  </thead>\n",
              "  <tbody>\n",
              "    <tr>\n",
              "      <th>0</th>\n",
              "      <td>2021-01-15</td>\n",
              "      <td>403518</td>\n",
              "    </tr>\n",
              "    <tr>\n",
              "      <th>1</th>\n",
              "      <td>2021-02-15</td>\n",
              "      <td>402642</td>\n",
              "    </tr>\n",
              "    <tr>\n",
              "      <th>2</th>\n",
              "      <td>2021-03-15</td>\n",
              "      <td>401074</td>\n",
              "    </tr>\n",
              "    <tr>\n",
              "      <th>3</th>\n",
              "      <td>2021-04-15</td>\n",
              "      <td>400399</td>\n",
              "    </tr>\n",
              "    <tr>\n",
              "      <th>4</th>\n",
              "      <td>2021-05-15</td>\n",
              "      <td>399950</td>\n",
              "    </tr>\n",
              "    <tr>\n",
              "      <th>5</th>\n",
              "      <td>2021-06-15</td>\n",
              "      <td>399266</td>\n",
              "    </tr>\n",
              "    <tr>\n",
              "      <th>6</th>\n",
              "      <td>2021-07-15</td>\n",
              "      <td>398744</td>\n",
              "    </tr>\n",
              "  </tbody>\n",
              "</table>\n",
              "</div>"
            ],
            "text/plain": [
              "           ds       y\n",
              "0  2021-01-15  403518\n",
              "1  2021-02-15  402642\n",
              "2  2021-03-15  401074\n",
              "3  2021-04-15  400399\n",
              "4  2021-05-15  399950\n",
              "5  2021-06-15  399266\n",
              "6  2021-07-15  398744"
            ]
          },
          "metadata": {},
          "execution_count": 80
        }
      ]
    },
    {
      "cell_type": "code",
      "metadata": {
        "colab": {
          "base_uri": "https://localhost:8080/",
          "height": 513
        },
        "id": "_uvxqfVKbBUj",
        "outputId": "e4253b84-00e4-4b87-8bdd-d7d643d0fbf8"
      },
      "source": [
        "m = Prophet()\n",
        "m.fit(guro)\n",
        "\n",
        "future_data = m.make_future_dataframe(periods=7,freq='MS')\n",
        "\n",
        "forecast_data = m.predict(future_data)\n",
        "fig1 = m.plot(forecast_data,xlabel='월',ylabel='인구 수')"
      ],
      "execution_count": 81,
      "outputs": [
        {
          "output_type": "stream",
          "name": "stderr",
          "text": [
            "INFO:fbprophet:Disabling yearly seasonality. Run prophet with yearly_seasonality=True to override this.\n",
            "INFO:fbprophet:Disabling weekly seasonality. Run prophet with weekly_seasonality=True to override this.\n",
            "INFO:fbprophet:Disabling daily seasonality. Run prophet with daily_seasonality=True to override this.\n",
            "INFO:fbprophet:n_changepoints greater than number of observations. Using 4.\n"
          ]
        },
        {
          "output_type": "display_data",
          "data": {
            "image/png": "[encoded data removed]",
            "text/plain": [
              "<Figure size 720x432 with 1 Axes>"
            ]
          },
          "metadata": {}
        }
      ]
    },
    {
      "cell_type": "markdown",
      "metadata": {
        "id": "2fMPflKUaqt3"
      },
      "source": [
        "## 금천구"
      ]
    },
    {
      "cell_type": "code",
      "metadata": {
        "colab": {
          "base_uri": "https://localhost:8080/",
          "height": 266
        },
        "id": "JnziUZQaas4S",
        "outputId": "af2d4c4e-d176-4bab-ce8d-bb51e057c180"
      },
      "source": [
        "gc = ppl_2021[ppl_2021['atdrc_code_se'].str.contains('금천구')]\n",
        "gc = gc.sort_values('월')\n",
        "gc = gc.reset_index(drop=True)\n",
        "gc = gc.drop(columns = 'atdrc_code_se',axis=1)\n",
        "gc = gc.rename(columns={'tot_popltn_co': 'y','월':'ds'})\n",
        "gc = gc[['ds','y']]\n",
        "gc"
      ],
      "execution_count": 82,
      "outputs": [
        {
          "output_type": "execute_result",
          "data": {
            "text/html": [
              "<div>\n",
              "<style scoped>\n",
              "    .dataframe tbody tr th:only-of-type {\n",
              "        vertical-align: middle;\n",
              "    }\n",
              "\n",
              "    .dataframe tbody tr th {\n",
              "        vertical-align: top;\n",
              "    }\n",
              "\n",
              "    .dataframe thead th {\n",
              "        text-align: right;\n",
              "    }\n",
              "</style>\n",
              "<table border=\"1\" class=\"dataframe\">\n",
              "  <thead>\n",
              "    <tr style=\"text-align: right;\">\n",
              "      <th></th>\n",
              "      <th>ds</th>\n",
              "      <th>y</th>\n",
              "    </tr>\n",
              "  </thead>\n",
              "  <tbody>\n",
              "    <tr>\n",
              "      <th>0</th>\n",
              "      <td>2021-01-15</td>\n",
              "      <td>231634</td>\n",
              "    </tr>\n",
              "    <tr>\n",
              "      <th>1</th>\n",
              "      <td>2021-02-15</td>\n",
              "      <td>231290</td>\n",
              "    </tr>\n",
              "    <tr>\n",
              "      <th>2</th>\n",
              "      <td>2021-03-15</td>\n",
              "      <td>229844</td>\n",
              "    </tr>\n",
              "    <tr>\n",
              "      <th>3</th>\n",
              "      <td>2021-04-15</td>\n",
              "      <td>229639</td>\n",
              "    </tr>\n",
              "    <tr>\n",
              "      <th>4</th>\n",
              "      <td>2021-05-15</td>\n",
              "      <td>229823</td>\n",
              "    </tr>\n",
              "    <tr>\n",
              "      <th>5</th>\n",
              "      <td>2021-06-15</td>\n",
              "      <td>230168</td>\n",
              "    </tr>\n",
              "    <tr>\n",
              "      <th>6</th>\n",
              "      <td>2021-07-15</td>\n",
              "      <td>230665</td>\n",
              "    </tr>\n",
              "  </tbody>\n",
              "</table>\n",
              "</div>"
            ],
            "text/plain": [
              "           ds       y\n",
              "0  2021-01-15  231634\n",
              "1  2021-02-15  231290\n",
              "2  2021-03-15  229844\n",
              "3  2021-04-15  229639\n",
              "4  2021-05-15  229823\n",
              "5  2021-06-15  230168\n",
              "6  2021-07-15  230665"
            ]
          },
          "metadata": {},
          "execution_count": 82
        }
      ]
    },
    {
      "cell_type": "code",
      "metadata": {
        "colab": {
          "base_uri": "https://localhost:8080/",
          "height": 513
        },
        "id": "wPAE1GF-bNzK",
        "outputId": "6f6a6cc4-3190-4d29-95a9-78c428532085"
      },
      "source": [
        "m = Prophet()\n",
        "m.fit(gc)\n",
        "\n",
        "future_data = m.make_future_dataframe(periods=7,freq='MS')\n",
        "\n",
        "forecast_data = m.predict(future_data)\n",
        "fig1 = m.plot(forecast_data,xlabel='월',ylabel='인구 수')"
      ],
      "execution_count": 83,
      "outputs": [
        {
          "output_type": "stream",
          "name": "stderr",
          "text": [
            "INFO:fbprophet:Disabling yearly seasonality. Run prophet with yearly_seasonality=True to override this.\n",
            "INFO:fbprophet:Disabling weekly seasonality. Run prophet with weekly_seasonality=True to override this.\n",
            "INFO:fbprophet:Disabling daily seasonality. Run prophet with daily_seasonality=True to override this.\n",
            "INFO:fbprophet:n_changepoints greater than number of observations. Using 4.\n"
          ]
        },
        {
          "output_type": "display_data",
          "data": {
            "image/png": "[encoded data removed]",
            "text/plain": [
              "<Figure size 720x432 with 1 Axes>"
            ]
          },
          "metadata": {}
        }
      ]
    },
    {
      "cell_type": "markdown",
      "metadata": {
        "id": "C-yXhFlFatQm"
      },
      "source": [
        "## 영등포구"
      ]
    },
    {
      "cell_type": "code",
      "metadata": {
        "colab": {
          "base_uri": "https://localhost:8080/",
          "height": 266
        },
        "id": "qLTgMkioau93",
        "outputId": "4319636e-454d-4ec4-8498-05805f4864ac"
      },
      "source": [
        "ydp = ppl_2021[ppl_2021['atdrc_code_se'].str.contains('영등포구')]\n",
        "ydp = ydp.sort_values('월')\n",
        "ydp = ydp.reset_index(drop=True)\n",
        "ydp = ydp.drop(columns = 'atdrc_code_se',axis=1)\n",
        "ydp = ydp.rename(columns={'tot_popltn_co': 'y','월':'ds'})\n",
        "ydp = ydp[['ds','y']]\n",
        "ydp"
      ],
      "execution_count": 85,
      "outputs": [
        {
          "output_type": "execute_result",
          "data": {
            "text/html": [
              "<div>\n",
              "<style scoped>\n",
              "    .dataframe tbody tr th:only-of-type {\n",
              "        vertical-align: middle;\n",
              "    }\n",
              "\n",
              "    .dataframe tbody tr th {\n",
              "        vertical-align: top;\n",
              "    }\n",
              "\n",
              "    .dataframe thead th {\n",
              "        text-align: right;\n",
              "    }\n",
              "</style>\n",
              "<table border=\"1\" class=\"dataframe\">\n",
              "  <thead>\n",
              "    <tr style=\"text-align: right;\">\n",
              "      <th></th>\n",
              "      <th>ds</th>\n",
              "      <th>y</th>\n",
              "    </tr>\n",
              "  </thead>\n",
              "  <tbody>\n",
              "    <tr>\n",
              "      <th>0</th>\n",
              "      <td>2021-01-15</td>\n",
              "      <td>380169</td>\n",
              "    </tr>\n",
              "    <tr>\n",
              "      <th>1</th>\n",
              "      <td>2021-02-15</td>\n",
              "      <td>380443</td>\n",
              "    </tr>\n",
              "    <tr>\n",
              "      <th>2</th>\n",
              "      <td>2021-03-15</td>\n",
              "      <td>377590</td>\n",
              "    </tr>\n",
              "    <tr>\n",
              "      <th>3</th>\n",
              "      <td>2021-04-15</td>\n",
              "      <td>377696</td>\n",
              "    </tr>\n",
              "    <tr>\n",
              "      <th>4</th>\n",
              "      <td>2021-05-15</td>\n",
              "      <td>377577</td>\n",
              "    </tr>\n",
              "    <tr>\n",
              "      <th>5</th>\n",
              "      <td>2021-06-15</td>\n",
              "      <td>377421</td>\n",
              "    </tr>\n",
              "    <tr>\n",
              "      <th>6</th>\n",
              "      <td>2021-07-15</td>\n",
              "      <td>377408</td>\n",
              "    </tr>\n",
              "  </tbody>\n",
              "</table>\n",
              "</div>"
            ],
            "text/plain": [
              "           ds       y\n",
              "0  2021-01-15  380169\n",
              "1  2021-02-15  380443\n",
              "2  2021-03-15  377590\n",
              "3  2021-04-15  377696\n",
              "4  2021-05-15  377577\n",
              "5  2021-06-15  377421\n",
              "6  2021-07-15  377408"
            ]
          },
          "metadata": {},
          "execution_count": 85
        }
      ]
    },
    {
      "cell_type": "code",
      "metadata": {
        "colab": {
          "base_uri": "https://localhost:8080/",
          "height": 513
        },
        "id": "22W1Q-ktbXt6",
        "outputId": "1f638293-308a-4b7d-d0cd-e72961a67ddb"
      },
      "source": [
        "m = Prophet()\n",
        "m.fit(ydp)\n",
        "\n",
        "future_data = m.make_future_dataframe(periods=7,freq='MS')\n",
        "\n",
        "forecast_data = m.predict(future_data)\n",
        "fig1 = m.plot(forecast_data,xlabel='월',ylabel='인구 수')"
      ],
      "execution_count": 86,
      "outputs": [
        {
          "output_type": "stream",
          "name": "stderr",
          "text": [
            "INFO:fbprophet:Disabling yearly seasonality. Run prophet with yearly_seasonality=True to override this.\n",
            "INFO:fbprophet:Disabling weekly seasonality. Run prophet with weekly_seasonality=True to override this.\n",
            "INFO:fbprophet:Disabling daily seasonality. Run prophet with daily_seasonality=True to override this.\n",
            "INFO:fbprophet:n_changepoints greater than number of observations. Using 4.\n"
          ]
        },
        {
          "output_type": "display_data",
          "data": {
            "image/png": "[encoded data removed]",
            "text/plain": [
              "<Figure size 720x432 with 1 Axes>"
            ]
          },
          "metadata": {}
        }
      ]
    },
    {
      "cell_type": "markdown",
      "metadata": {
        "id": "SWg_0TOPavZJ"
      },
      "source": [
        "## 관악구"
      ]
    },
    {
      "cell_type": "code",
      "metadata": {
        "colab": {
          "base_uri": "https://localhost:8080/",
          "height": 266
        },
        "id": "i_pA-DRSaxBD",
        "outputId": "d7c4fddf-48ef-4a5c-ffb7-681be7722206"
      },
      "source": [
        "gw = ppl_2021[ppl_2021['atdrc_code_se'].str.contains('관악구')]\n",
        "gw = gw.sort_values('월')\n",
        "gw = gw.reset_index(drop=True)\n",
        "gw = gw.drop(columns = 'atdrc_code_se',axis=1)\n",
        "gw = gw.rename(columns={'tot_popltn_co': 'y','월':'ds'})\n",
        "gw = gw[['ds','y']]\n",
        "gw"
      ],
      "execution_count": 88,
      "outputs": [
        {
          "output_type": "execute_result",
          "data": {
            "text/html": [
              "<div>\n",
              "<style scoped>\n",
              "    .dataframe tbody tr th:only-of-type {\n",
              "        vertical-align: middle;\n",
              "    }\n",
              "\n",
              "    .dataframe tbody tr th {\n",
              "        vertical-align: top;\n",
              "    }\n",
              "\n",
              "    .dataframe thead th {\n",
              "        text-align: right;\n",
              "    }\n",
              "</style>\n",
              "<table border=\"1\" class=\"dataframe\">\n",
              "  <thead>\n",
              "    <tr style=\"text-align: right;\">\n",
              "      <th></th>\n",
              "      <th>ds</th>\n",
              "      <th>y</th>\n",
              "    </tr>\n",
              "  </thead>\n",
              "  <tbody>\n",
              "    <tr>\n",
              "      <th>0</th>\n",
              "      <td>2021-01-15</td>\n",
              "      <td>494175</td>\n",
              "    </tr>\n",
              "    <tr>\n",
              "      <th>1</th>\n",
              "      <td>2021-02-15</td>\n",
              "      <td>493374</td>\n",
              "    </tr>\n",
              "    <tr>\n",
              "      <th>2</th>\n",
              "      <td>2021-03-15</td>\n",
              "      <td>490352</td>\n",
              "    </tr>\n",
              "    <tr>\n",
              "      <th>3</th>\n",
              "      <td>2021-04-15</td>\n",
              "      <td>489464</td>\n",
              "    </tr>\n",
              "    <tr>\n",
              "      <th>4</th>\n",
              "      <td>2021-05-15</td>\n",
              "      <td>489160</td>\n",
              "    </tr>\n",
              "    <tr>\n",
              "      <th>5</th>\n",
              "      <td>2021-06-15</td>\n",
              "      <td>488800</td>\n",
              "    </tr>\n",
              "    <tr>\n",
              "      <th>6</th>\n",
              "      <td>2021-07-15</td>\n",
              "      <td>488525</td>\n",
              "    </tr>\n",
              "  </tbody>\n",
              "</table>\n",
              "</div>"
            ],
            "text/plain": [
              "           ds       y\n",
              "0  2021-01-15  494175\n",
              "1  2021-02-15  493374\n",
              "2  2021-03-15  490352\n",
              "3  2021-04-15  489464\n",
              "4  2021-05-15  489160\n",
              "5  2021-06-15  488800\n",
              "6  2021-07-15  488525"
            ]
          },
          "metadata": {},
          "execution_count": 88
        }
      ]
    },
    {
      "cell_type": "code",
      "metadata": {
        "colab": {
          "base_uri": "https://localhost:8080/",
          "height": 513
        },
        "id": "0IQ7DqaZa5xX",
        "outputId": "19260694-29b5-4664-bf45-3fec7115e265"
      },
      "source": [
        "m = Prophet()\n",
        "m.fit(gw)\n",
        "\n",
        "future_data = m.make_future_dataframe(periods=7,freq='MS')\n",
        "\n",
        "forecast_data = m.predict(future_data)\n",
        "fig1 = m.plot(forecast_data,xlabel='월',ylabel='인구 수')"
      ],
      "execution_count": 89,
      "outputs": [
        {
          "output_type": "stream",
          "name": "stderr",
          "text": [
            "INFO:fbprophet:Disabling yearly seasonality. Run prophet with yearly_seasonality=True to override this.\n",
            "INFO:fbprophet:Disabling weekly seasonality. Run prophet with weekly_seasonality=True to override this.\n",
            "INFO:fbprophet:Disabling daily seasonality. Run prophet with daily_seasonality=True to override this.\n",
            "INFO:fbprophet:n_changepoints greater than number of observations. Using 4.\n"
          ]
        },
        {
          "output_type": "display_data",
          "data": {
            "image/png": "[encoded data removed]",
            "text/plain": [
              "<Figure size 720x432 with 1 Axes>"
            ]
          },
          "metadata": {}
        }
      ]
    },
    {
      "cell_type": "code",
      "metadata": {
        "id": "VyiE3gEMa8ka"
      },
      "source": [
        ""
      ],
      "execution_count": null,
      "outputs": []
    }
  ]
}