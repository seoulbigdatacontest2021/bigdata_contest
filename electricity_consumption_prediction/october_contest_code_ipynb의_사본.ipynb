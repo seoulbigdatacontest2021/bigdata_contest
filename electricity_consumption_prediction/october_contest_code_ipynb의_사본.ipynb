{
  "nbformat": 4,
  "nbformat_minor": 0,
  "metadata": {
    "colab": {
      "name": "october_contest_code.ipynb의 사본",
      "provenance": [],
      "collapsed_sections": []
    },
    "kernelspec": {
      "name": "python3",
      "display_name": "Python 3"
    },
    "language_info": {
      "name": "python"
    }
  },
  "cells": [
    {
      "cell_type": "code",
      "metadata": {
        "id": "_xwAKUtHWfzG",
        "colab": {
          "base_uri": "https://localhost:8080/"
        },
        "outputId": "80664a62-4e7c-48eb-fcef-081cba1d6b73"
      },
      "source": [
        "!sudo apt-get install -y fonts-nanum\n",
        "!sudo fc-cache -fv\n",
        "!rm ~/.cache/matplotlib -rf"
      ],
      "execution_count": 1,
      "outputs": [
        {
          "output_type": "stream",
          "name": "stdout",
          "text": [
            "Reading package lists... Done\n",
            "Building dependency tree       \n",
            "Reading state information... Done\n",
            "The following NEW packages will be installed:\n",
            "  fonts-nanum\n",
            "0 upgraded, 1 newly installed, 0 to remove and 37 not upgraded.\n",
            "Need to get 9,604 kB of archives.\n",
            "After this operation, 29.5 MB of additional disk space will be used.\n",
            "Get:1 http://archive.ubuntu.com/ubuntu bionic/universe amd64 fonts-nanum all 20170925-1 [9,604 kB]\n",
            "Fetched 9,604 kB in 20s (487 kB/s)\n",
            "debconf: unable to initialize frontend: Dialog\n",
            "debconf: (No usable dialog-like program is installed, so the dialog based frontend cannot be used. at /usr/share/perl5/Debconf/FrontEnd/Dialog.pm line 76, <> line 1.)\n",
            "debconf: falling back to frontend: Readline\n",
            "debconf: unable to initialize frontend: Readline\n",
            "debconf: (This frontend requires a controlling tty.)\n",
            "debconf: falling back to frontend: Teletype\n",
            "dpkg-preconfigure: unable to re-open stdin: \n",
            "Selecting previously unselected package fonts-nanum.\n",
            "(Reading database ... 155013 files and directories currently installed.)\n",
            "Preparing to unpack .../fonts-nanum_20170925-1_all.deb ...\n",
            "Unpacking fonts-nanum (20170925-1) ...\n",
            "Setting up fonts-nanum (20170925-1) ...\n",
            "Processing triggers for fontconfig (2.12.6-0ubuntu2) ...\n",
            "/usr/share/fonts: caching, new cache contents: 0 fonts, 1 dirs\n",
            "/usr/share/fonts/truetype: caching, new cache contents: 0 fonts, 3 dirs\n",
            "/usr/share/fonts/truetype/humor-sans: caching, new cache contents: 1 fonts, 0 dirs\n",
            "/usr/share/fonts/truetype/liberation: caching, new cache contents: 16 fonts, 0 dirs\n",
            "/usr/share/fonts/truetype/nanum: caching, new cache contents: 10 fonts, 0 dirs\n",
            "/usr/local/share/fonts: caching, new cache contents: 0 fonts, 0 dirs\n",
            "/root/.local/share/fonts: skipping, no such directory\n",
            "/root/.fonts: skipping, no such directory\n",
            "/var/cache/fontconfig: cleaning cache directory\n",
            "/root/.cache/fontconfig: not cleaning non-existent cache directory\n",
            "/root/.fontconfig: not cleaning non-existent cache directory\n",
            "fc-cache: succeeded\n"
          ]
        }
      ]
    },
    {
      "cell_type": "markdown",
      "metadata": {
        "id": "_T6CpUlbTw4U"
      },
      "source": [
        "# 한국 전기소비량 예측 그래프"
      ]
    },
    {
      "cell_type": "code",
      "metadata": {
        "id": "TscWjSPUNjSy",
        "colab": {
          "base_uri": "https://localhost:8080/",
          "height": 1000
        },
        "outputId": "39c6fa81-df24-4ae7-ad05-732f511b97d2"
      },
      "source": [
        "import pandas as pd\n",
        "import seaborn as sns\n",
        "import matplotlib.pyplot as plt\n",
        "import numpy as np\n",
        "plt.rc('axes', unicode_minus=False)\n",
        "plt.rc('font', family='NanumGothic')\n",
        "\n",
        "elec_new = pd.read_csv('https://raw.githubusercontent.com/HyunhoSh/Seoul_bigdata_contest/main/folium_map/elec_con_hi.csv', encoding = 'cp949',names = ['ds','y'])\n",
        "elec_new"
      ],
      "execution_count": 1,
      "outputs": [
        {
          "output_type": "execute_result",
          "data": {
            "text/html": [
              "<div>\n",
              "<style scoped>\n",
              "    .dataframe tbody tr th:only-of-type {\n",
              "        vertical-align: middle;\n",
              "    }\n",
              "\n",
              "    .dataframe tbody tr th {\n",
              "        vertical-align: top;\n",
              "    }\n",
              "\n",
              "    .dataframe thead th {\n",
              "        text-align: right;\n",
              "    }\n",
              "</style>\n",
              "<table border=\"1\" class=\"dataframe\">\n",
              "  <thead>\n",
              "    <tr style=\"text-align: right;\">\n",
              "      <th></th>\n",
              "      <th>ds</th>\n",
              "      <th>y</th>\n",
              "    </tr>\n",
              "  </thead>\n",
              "  <tbody>\n",
              "    <tr>\n",
              "      <th>0</th>\n",
              "      <td>year</td>\n",
              "      <td>electricity_consumption(Twh)</td>\n",
              "    </tr>\n",
              "    <tr>\n",
              "      <th>1</th>\n",
              "      <td>1985-12-31</td>\n",
              "      <td>62.667201</td>\n",
              "    </tr>\n",
              "    <tr>\n",
              "      <th>2</th>\n",
              "      <td>1986-12-31</td>\n",
              "      <td>69.680597</td>\n",
              "    </tr>\n",
              "    <tr>\n",
              "      <th>3</th>\n",
              "      <td>1987-12-31</td>\n",
              "      <td>80.251348</td>\n",
              "    </tr>\n",
              "    <tr>\n",
              "      <th>4</th>\n",
              "      <td>1988-12-31</td>\n",
              "      <td>93.108847</td>\n",
              "    </tr>\n",
              "    <tr>\n",
              "      <th>5</th>\n",
              "      <td>1989-12-31</td>\n",
              "      <td>103.623614</td>\n",
              "    </tr>\n",
              "    <tr>\n",
              "      <th>6</th>\n",
              "      <td>1990-12-31</td>\n",
              "      <td>118.460795</td>\n",
              "    </tr>\n",
              "    <tr>\n",
              "      <th>7</th>\n",
              "      <td>1991-12-31</td>\n",
              "      <td>131.616144</td>\n",
              "    </tr>\n",
              "    <tr>\n",
              "      <th>8</th>\n",
              "      <td>1992-12-31</td>\n",
              "      <td>146.439284</td>\n",
              "    </tr>\n",
              "    <tr>\n",
              "      <th>9</th>\n",
              "      <td>1993-12-31</td>\n",
              "      <td>161.900951</td>\n",
              "    </tr>\n",
              "    <tr>\n",
              "      <th>10</th>\n",
              "      <td>1994-12-31</td>\n",
              "      <td>183.365532</td>\n",
              "    </tr>\n",
              "    <tr>\n",
              "      <th>11</th>\n",
              "      <td>1995-12-31</td>\n",
              "      <td>203.546465</td>\n",
              "    </tr>\n",
              "    <tr>\n",
              "      <th>12</th>\n",
              "      <td>1996-12-31</td>\n",
              "      <td>225.845719</td>\n",
              "    </tr>\n",
              "    <tr>\n",
              "      <th>13</th>\n",
              "      <td>1997-12-31</td>\n",
              "      <td>246.587471</td>\n",
              "    </tr>\n",
              "    <tr>\n",
              "      <th>14</th>\n",
              "      <td>1998-12-31</td>\n",
              "      <td>237.197406</td>\n",
              "    </tr>\n",
              "    <tr>\n",
              "      <th>15</th>\n",
              "      <td>1999-12-31</td>\n",
              "      <td>262.152146</td>\n",
              "    </tr>\n",
              "    <tr>\n",
              "      <th>16</th>\n",
              "      <td>2000-12-31</td>\n",
              "      <td>272.51133</td>\n",
              "    </tr>\n",
              "    <tr>\n",
              "      <th>17</th>\n",
              "      <td>2001-12-31</td>\n",
              "      <td>291.92456</td>\n",
              "    </tr>\n",
              "    <tr>\n",
              "      <th>18</th>\n",
              "      <td>2002-12-31</td>\n",
              "      <td>311.3841</td>\n",
              "    </tr>\n",
              "    <tr>\n",
              "      <th>19</th>\n",
              "      <td>2003-12-31</td>\n",
              "      <td>324.15678</td>\n",
              "    </tr>\n",
              "    <tr>\n",
              "      <th>20</th>\n",
              "      <td>2004-12-31</td>\n",
              "      <td>346.16448</td>\n",
              "    </tr>\n",
              "    <tr>\n",
              "      <th>21</th>\n",
              "      <td>2005-12-31</td>\n",
              "      <td>364.38578</td>\n",
              "    </tr>\n",
              "    <tr>\n",
              "      <th>22</th>\n",
              "      <td>2006-12-31</td>\n",
              "      <td>379.63628</td>\n",
              "    </tr>\n",
              "    <tr>\n",
              "      <th>23</th>\n",
              "      <td>2007-12-31</td>\n",
              "      <td>402.77224</td>\n",
              "    </tr>\n",
              "    <tr>\n",
              "      <th>24</th>\n",
              "      <td>2008-12-31</td>\n",
              "      <td>419.75636</td>\n",
              "    </tr>\n",
              "    <tr>\n",
              "      <th>25</th>\n",
              "      <td>2009-12-31</td>\n",
              "      <td>426.88682</td>\n",
              "    </tr>\n",
              "    <tr>\n",
              "      <th>26</th>\n",
              "      <td>2010-12-31</td>\n",
              "      <td>469.3253</td>\n",
              "    </tr>\n",
              "    <tr>\n",
              "      <th>27</th>\n",
              "      <td>2011-12-31</td>\n",
              "      <td>491.46904</td>\n",
              "    </tr>\n",
              "    <tr>\n",
              "      <th>28</th>\n",
              "      <td>2012-12-31</td>\n",
              "      <td>501.58688</td>\n",
              "    </tr>\n",
              "    <tr>\n",
              "      <th>29</th>\n",
              "      <td>2013-12-31</td>\n",
              "      <td>508.0093</td>\n",
              "    </tr>\n",
              "    <tr>\n",
              "      <th>30</th>\n",
              "      <td>2014-12-31</td>\n",
              "      <td>515.79282</td>\n",
              "    </tr>\n",
              "    <tr>\n",
              "      <th>31</th>\n",
              "      <td>2015-12-31</td>\n",
              "      <td>518.9174</td>\n",
              "    </tr>\n",
              "    <tr>\n",
              "      <th>32</th>\n",
              "      <td>2016-12-31</td>\n",
              "      <td>528.1031</td>\n",
              "    </tr>\n",
              "    <tr>\n",
              "      <th>33</th>\n",
              "      <td>2017-12-31</td>\n",
              "      <td>531.83994</td>\n",
              "    </tr>\n",
              "    <tr>\n",
              "      <th>34</th>\n",
              "      <td>2018-12-31</td>\n",
              "      <td>553.99376</td>\n",
              "    </tr>\n",
              "    <tr>\n",
              "      <th>35</th>\n",
              "      <td>2019-12-31</td>\n",
              "      <td>546.438648</td>\n",
              "    </tr>\n",
              "    <tr>\n",
              "      <th>36</th>\n",
              "      <td>2020-12-31</td>\n",
              "      <td>536.1934663</td>\n",
              "    </tr>\n",
              "  </tbody>\n",
              "</table>\n",
              "</div>"
            ],
            "text/plain": [
              "            ds                             y\n",
              "0         year  electricity_consumption(Twh)\n",
              "1   1985-12-31                     62.667201\n",
              "2   1986-12-31                     69.680597\n",
              "3   1987-12-31                     80.251348\n",
              "4   1988-12-31                     93.108847\n",
              "5   1989-12-31                    103.623614\n",
              "6   1990-12-31                    118.460795\n",
              "7   1991-12-31                    131.616144\n",
              "8   1992-12-31                    146.439284\n",
              "9   1993-12-31                    161.900951\n",
              "10  1994-12-31                    183.365532\n",
              "11  1995-12-31                    203.546465\n",
              "12  1996-12-31                    225.845719\n",
              "13  1997-12-31                    246.587471\n",
              "14  1998-12-31                    237.197406\n",
              "15  1999-12-31                    262.152146\n",
              "16  2000-12-31                     272.51133\n",
              "17  2001-12-31                     291.92456\n",
              "18  2002-12-31                      311.3841\n",
              "19  2003-12-31                     324.15678\n",
              "20  2004-12-31                     346.16448\n",
              "21  2005-12-31                     364.38578\n",
              "22  2006-12-31                     379.63628\n",
              "23  2007-12-31                     402.77224\n",
              "24  2008-12-31                     419.75636\n",
              "25  2009-12-31                     426.88682\n",
              "26  2010-12-31                      469.3253\n",
              "27  2011-12-31                     491.46904\n",
              "28  2012-12-31                     501.58688\n",
              "29  2013-12-31                      508.0093\n",
              "30  2014-12-31                     515.79282\n",
              "31  2015-12-31                      518.9174\n",
              "32  2016-12-31                      528.1031\n",
              "33  2017-12-31                     531.83994\n",
              "34  2018-12-31                     553.99376\n",
              "35  2019-12-31                    546.438648\n",
              "36  2020-12-31                   536.1934663"
            ]
          },
          "metadata": {},
          "execution_count": 1
        }
      ]
    },
    {
      "cell_type": "code",
      "metadata": {
        "id": "WK2IilMVNsCf"
      },
      "source": [
        "elec_new_=elec_new.drop(index=0,axis=0)"
      ],
      "execution_count": 2,
      "outputs": []
    },
    {
      "cell_type": "code",
      "metadata": {
        "id": "zujiayhaNw9H",
        "colab": {
          "base_uri": "https://localhost:8080/",
          "height": 1000
        },
        "outputId": "3c0c5a26-e0c1-4560-c8ad-5a8bb350657a"
      },
      "source": [
        "elec_new__=elec_new_.reset_index()\n",
        "elec_new__"
      ],
      "execution_count": 3,
      "outputs": [
        {
          "output_type": "execute_result",
          "data": {
            "text/html": [
              "<div>\n",
              "<style scoped>\n",
              "    .dataframe tbody tr th:only-of-type {\n",
              "        vertical-align: middle;\n",
              "    }\n",
              "\n",
              "    .dataframe tbody tr th {\n",
              "        vertical-align: top;\n",
              "    }\n",
              "\n",
              "    .dataframe thead th {\n",
              "        text-align: right;\n",
              "    }\n",
              "</style>\n",
              "<table border=\"1\" class=\"dataframe\">\n",
              "  <thead>\n",
              "    <tr style=\"text-align: right;\">\n",
              "      <th></th>\n",
              "      <th>index</th>\n",
              "      <th>ds</th>\n",
              "      <th>y</th>\n",
              "    </tr>\n",
              "  </thead>\n",
              "  <tbody>\n",
              "    <tr>\n",
              "      <th>0</th>\n",
              "      <td>1</td>\n",
              "      <td>1985-12-31</td>\n",
              "      <td>62.667201</td>\n",
              "    </tr>\n",
              "    <tr>\n",
              "      <th>1</th>\n",
              "      <td>2</td>\n",
              "      <td>1986-12-31</td>\n",
              "      <td>69.680597</td>\n",
              "    </tr>\n",
              "    <tr>\n",
              "      <th>2</th>\n",
              "      <td>3</td>\n",
              "      <td>1987-12-31</td>\n",
              "      <td>80.251348</td>\n",
              "    </tr>\n",
              "    <tr>\n",
              "      <th>3</th>\n",
              "      <td>4</td>\n",
              "      <td>1988-12-31</td>\n",
              "      <td>93.108847</td>\n",
              "    </tr>\n",
              "    <tr>\n",
              "      <th>4</th>\n",
              "      <td>5</td>\n",
              "      <td>1989-12-31</td>\n",
              "      <td>103.623614</td>\n",
              "    </tr>\n",
              "    <tr>\n",
              "      <th>5</th>\n",
              "      <td>6</td>\n",
              "      <td>1990-12-31</td>\n",
              "      <td>118.460795</td>\n",
              "    </tr>\n",
              "    <tr>\n",
              "      <th>6</th>\n",
              "      <td>7</td>\n",
              "      <td>1991-12-31</td>\n",
              "      <td>131.616144</td>\n",
              "    </tr>\n",
              "    <tr>\n",
              "      <th>7</th>\n",
              "      <td>8</td>\n",
              "      <td>1992-12-31</td>\n",
              "      <td>146.439284</td>\n",
              "    </tr>\n",
              "    <tr>\n",
              "      <th>8</th>\n",
              "      <td>9</td>\n",
              "      <td>1993-12-31</td>\n",
              "      <td>161.900951</td>\n",
              "    </tr>\n",
              "    <tr>\n",
              "      <th>9</th>\n",
              "      <td>10</td>\n",
              "      <td>1994-12-31</td>\n",
              "      <td>183.365532</td>\n",
              "    </tr>\n",
              "    <tr>\n",
              "      <th>10</th>\n",
              "      <td>11</td>\n",
              "      <td>1995-12-31</td>\n",
              "      <td>203.546465</td>\n",
              "    </tr>\n",
              "    <tr>\n",
              "      <th>11</th>\n",
              "      <td>12</td>\n",
              "      <td>1996-12-31</td>\n",
              "      <td>225.845719</td>\n",
              "    </tr>\n",
              "    <tr>\n",
              "      <th>12</th>\n",
              "      <td>13</td>\n",
              "      <td>1997-12-31</td>\n",
              "      <td>246.587471</td>\n",
              "    </tr>\n",
              "    <tr>\n",
              "      <th>13</th>\n",
              "      <td>14</td>\n",
              "      <td>1998-12-31</td>\n",
              "      <td>237.197406</td>\n",
              "    </tr>\n",
              "    <tr>\n",
              "      <th>14</th>\n",
              "      <td>15</td>\n",
              "      <td>1999-12-31</td>\n",
              "      <td>262.152146</td>\n",
              "    </tr>\n",
              "    <tr>\n",
              "      <th>15</th>\n",
              "      <td>16</td>\n",
              "      <td>2000-12-31</td>\n",
              "      <td>272.51133</td>\n",
              "    </tr>\n",
              "    <tr>\n",
              "      <th>16</th>\n",
              "      <td>17</td>\n",
              "      <td>2001-12-31</td>\n",
              "      <td>291.92456</td>\n",
              "    </tr>\n",
              "    <tr>\n",
              "      <th>17</th>\n",
              "      <td>18</td>\n",
              "      <td>2002-12-31</td>\n",
              "      <td>311.3841</td>\n",
              "    </tr>\n",
              "    <tr>\n",
              "      <th>18</th>\n",
              "      <td>19</td>\n",
              "      <td>2003-12-31</td>\n",
              "      <td>324.15678</td>\n",
              "    </tr>\n",
              "    <tr>\n",
              "      <th>19</th>\n",
              "      <td>20</td>\n",
              "      <td>2004-12-31</td>\n",
              "      <td>346.16448</td>\n",
              "    </tr>\n",
              "    <tr>\n",
              "      <th>20</th>\n",
              "      <td>21</td>\n",
              "      <td>2005-12-31</td>\n",
              "      <td>364.38578</td>\n",
              "    </tr>\n",
              "    <tr>\n",
              "      <th>21</th>\n",
              "      <td>22</td>\n",
              "      <td>2006-12-31</td>\n",
              "      <td>379.63628</td>\n",
              "    </tr>\n",
              "    <tr>\n",
              "      <th>22</th>\n",
              "      <td>23</td>\n",
              "      <td>2007-12-31</td>\n",
              "      <td>402.77224</td>\n",
              "    </tr>\n",
              "    <tr>\n",
              "      <th>23</th>\n",
              "      <td>24</td>\n",
              "      <td>2008-12-31</td>\n",
              "      <td>419.75636</td>\n",
              "    </tr>\n",
              "    <tr>\n",
              "      <th>24</th>\n",
              "      <td>25</td>\n",
              "      <td>2009-12-31</td>\n",
              "      <td>426.88682</td>\n",
              "    </tr>\n",
              "    <tr>\n",
              "      <th>25</th>\n",
              "      <td>26</td>\n",
              "      <td>2010-12-31</td>\n",
              "      <td>469.3253</td>\n",
              "    </tr>\n",
              "    <tr>\n",
              "      <th>26</th>\n",
              "      <td>27</td>\n",
              "      <td>2011-12-31</td>\n",
              "      <td>491.46904</td>\n",
              "    </tr>\n",
              "    <tr>\n",
              "      <th>27</th>\n",
              "      <td>28</td>\n",
              "      <td>2012-12-31</td>\n",
              "      <td>501.58688</td>\n",
              "    </tr>\n",
              "    <tr>\n",
              "      <th>28</th>\n",
              "      <td>29</td>\n",
              "      <td>2013-12-31</td>\n",
              "      <td>508.0093</td>\n",
              "    </tr>\n",
              "    <tr>\n",
              "      <th>29</th>\n",
              "      <td>30</td>\n",
              "      <td>2014-12-31</td>\n",
              "      <td>515.79282</td>\n",
              "    </tr>\n",
              "    <tr>\n",
              "      <th>30</th>\n",
              "      <td>31</td>\n",
              "      <td>2015-12-31</td>\n",
              "      <td>518.9174</td>\n",
              "    </tr>\n",
              "    <tr>\n",
              "      <th>31</th>\n",
              "      <td>32</td>\n",
              "      <td>2016-12-31</td>\n",
              "      <td>528.1031</td>\n",
              "    </tr>\n",
              "    <tr>\n",
              "      <th>32</th>\n",
              "      <td>33</td>\n",
              "      <td>2017-12-31</td>\n",
              "      <td>531.83994</td>\n",
              "    </tr>\n",
              "    <tr>\n",
              "      <th>33</th>\n",
              "      <td>34</td>\n",
              "      <td>2018-12-31</td>\n",
              "      <td>553.99376</td>\n",
              "    </tr>\n",
              "    <tr>\n",
              "      <th>34</th>\n",
              "      <td>35</td>\n",
              "      <td>2019-12-31</td>\n",
              "      <td>546.438648</td>\n",
              "    </tr>\n",
              "    <tr>\n",
              "      <th>35</th>\n",
              "      <td>36</td>\n",
              "      <td>2020-12-31</td>\n",
              "      <td>536.1934663</td>\n",
              "    </tr>\n",
              "  </tbody>\n",
              "</table>\n",
              "</div>"
            ],
            "text/plain": [
              "    index          ds            y\n",
              "0       1  1985-12-31    62.667201\n",
              "1       2  1986-12-31    69.680597\n",
              "2       3  1987-12-31    80.251348\n",
              "3       4  1988-12-31    93.108847\n",
              "4       5  1989-12-31   103.623614\n",
              "5       6  1990-12-31   118.460795\n",
              "6       7  1991-12-31   131.616144\n",
              "7       8  1992-12-31   146.439284\n",
              "8       9  1993-12-31   161.900951\n",
              "9      10  1994-12-31   183.365532\n",
              "10     11  1995-12-31   203.546465\n",
              "11     12  1996-12-31   225.845719\n",
              "12     13  1997-12-31   246.587471\n",
              "13     14  1998-12-31   237.197406\n",
              "14     15  1999-12-31   262.152146\n",
              "15     16  2000-12-31    272.51133\n",
              "16     17  2001-12-31    291.92456\n",
              "17     18  2002-12-31     311.3841\n",
              "18     19  2003-12-31    324.15678\n",
              "19     20  2004-12-31    346.16448\n",
              "20     21  2005-12-31    364.38578\n",
              "21     22  2006-12-31    379.63628\n",
              "22     23  2007-12-31    402.77224\n",
              "23     24  2008-12-31    419.75636\n",
              "24     25  2009-12-31    426.88682\n",
              "25     26  2010-12-31     469.3253\n",
              "26     27  2011-12-31    491.46904\n",
              "27     28  2012-12-31    501.58688\n",
              "28     29  2013-12-31     508.0093\n",
              "29     30  2014-12-31    515.79282\n",
              "30     31  2015-12-31     518.9174\n",
              "31     32  2016-12-31     528.1031\n",
              "32     33  2017-12-31    531.83994\n",
              "33     34  2018-12-31    553.99376\n",
              "34     35  2019-12-31   546.438648\n",
              "35     36  2020-12-31  536.1934663"
            ]
          },
          "metadata": {},
          "execution_count": 3
        }
      ]
    },
    {
      "cell_type": "code",
      "metadata": {
        "id": "hzBWS2VnNyay",
        "colab": {
          "base_uri": "https://localhost:8080/",
          "height": 1000
        },
        "outputId": "e330576c-154c-4d42-cd56-53b6f6ccc887"
      },
      "source": [
        "elec_newnew = elec_new__.drop(columns=['index'],axis=1)\n",
        "elec_newnew"
      ],
      "execution_count": 4,
      "outputs": [
        {
          "output_type": "execute_result",
          "data": {
            "text/html": [
              "<div>\n",
              "<style scoped>\n",
              "    .dataframe tbody tr th:only-of-type {\n",
              "        vertical-align: middle;\n",
              "    }\n",
              "\n",
              "    .dataframe tbody tr th {\n",
              "        vertical-align: top;\n",
              "    }\n",
              "\n",
              "    .dataframe thead th {\n",
              "        text-align: right;\n",
              "    }\n",
              "</style>\n",
              "<table border=\"1\" class=\"dataframe\">\n",
              "  <thead>\n",
              "    <tr style=\"text-align: right;\">\n",
              "      <th></th>\n",
              "      <th>ds</th>\n",
              "      <th>y</th>\n",
              "    </tr>\n",
              "  </thead>\n",
              "  <tbody>\n",
              "    <tr>\n",
              "      <th>0</th>\n",
              "      <td>1985-12-31</td>\n",
              "      <td>62.667201</td>\n",
              "    </tr>\n",
              "    <tr>\n",
              "      <th>1</th>\n",
              "      <td>1986-12-31</td>\n",
              "      <td>69.680597</td>\n",
              "    </tr>\n",
              "    <tr>\n",
              "      <th>2</th>\n",
              "      <td>1987-12-31</td>\n",
              "      <td>80.251348</td>\n",
              "    </tr>\n",
              "    <tr>\n",
              "      <th>3</th>\n",
              "      <td>1988-12-31</td>\n",
              "      <td>93.108847</td>\n",
              "    </tr>\n",
              "    <tr>\n",
              "      <th>4</th>\n",
              "      <td>1989-12-31</td>\n",
              "      <td>103.623614</td>\n",
              "    </tr>\n",
              "    <tr>\n",
              "      <th>5</th>\n",
              "      <td>1990-12-31</td>\n",
              "      <td>118.460795</td>\n",
              "    </tr>\n",
              "    <tr>\n",
              "      <th>6</th>\n",
              "      <td>1991-12-31</td>\n",
              "      <td>131.616144</td>\n",
              "    </tr>\n",
              "    <tr>\n",
              "      <th>7</th>\n",
              "      <td>1992-12-31</td>\n",
              "      <td>146.439284</td>\n",
              "    </tr>\n",
              "    <tr>\n",
              "      <th>8</th>\n",
              "      <td>1993-12-31</td>\n",
              "      <td>161.900951</td>\n",
              "    </tr>\n",
              "    <tr>\n",
              "      <th>9</th>\n",
              "      <td>1994-12-31</td>\n",
              "      <td>183.365532</td>\n",
              "    </tr>\n",
              "    <tr>\n",
              "      <th>10</th>\n",
              "      <td>1995-12-31</td>\n",
              "      <td>203.546465</td>\n",
              "    </tr>\n",
              "    <tr>\n",
              "      <th>11</th>\n",
              "      <td>1996-12-31</td>\n",
              "      <td>225.845719</td>\n",
              "    </tr>\n",
              "    <tr>\n",
              "      <th>12</th>\n",
              "      <td>1997-12-31</td>\n",
              "      <td>246.587471</td>\n",
              "    </tr>\n",
              "    <tr>\n",
              "      <th>13</th>\n",
              "      <td>1998-12-31</td>\n",
              "      <td>237.197406</td>\n",
              "    </tr>\n",
              "    <tr>\n",
              "      <th>14</th>\n",
              "      <td>1999-12-31</td>\n",
              "      <td>262.152146</td>\n",
              "    </tr>\n",
              "    <tr>\n",
              "      <th>15</th>\n",
              "      <td>2000-12-31</td>\n",
              "      <td>272.51133</td>\n",
              "    </tr>\n",
              "    <tr>\n",
              "      <th>16</th>\n",
              "      <td>2001-12-31</td>\n",
              "      <td>291.92456</td>\n",
              "    </tr>\n",
              "    <tr>\n",
              "      <th>17</th>\n",
              "      <td>2002-12-31</td>\n",
              "      <td>311.3841</td>\n",
              "    </tr>\n",
              "    <tr>\n",
              "      <th>18</th>\n",
              "      <td>2003-12-31</td>\n",
              "      <td>324.15678</td>\n",
              "    </tr>\n",
              "    <tr>\n",
              "      <th>19</th>\n",
              "      <td>2004-12-31</td>\n",
              "      <td>346.16448</td>\n",
              "    </tr>\n",
              "    <tr>\n",
              "      <th>20</th>\n",
              "      <td>2005-12-31</td>\n",
              "      <td>364.38578</td>\n",
              "    </tr>\n",
              "    <tr>\n",
              "      <th>21</th>\n",
              "      <td>2006-12-31</td>\n",
              "      <td>379.63628</td>\n",
              "    </tr>\n",
              "    <tr>\n",
              "      <th>22</th>\n",
              "      <td>2007-12-31</td>\n",
              "      <td>402.77224</td>\n",
              "    </tr>\n",
              "    <tr>\n",
              "      <th>23</th>\n",
              "      <td>2008-12-31</td>\n",
              "      <td>419.75636</td>\n",
              "    </tr>\n",
              "    <tr>\n",
              "      <th>24</th>\n",
              "      <td>2009-12-31</td>\n",
              "      <td>426.88682</td>\n",
              "    </tr>\n",
              "    <tr>\n",
              "      <th>25</th>\n",
              "      <td>2010-12-31</td>\n",
              "      <td>469.3253</td>\n",
              "    </tr>\n",
              "    <tr>\n",
              "      <th>26</th>\n",
              "      <td>2011-12-31</td>\n",
              "      <td>491.46904</td>\n",
              "    </tr>\n",
              "    <tr>\n",
              "      <th>27</th>\n",
              "      <td>2012-12-31</td>\n",
              "      <td>501.58688</td>\n",
              "    </tr>\n",
              "    <tr>\n",
              "      <th>28</th>\n",
              "      <td>2013-12-31</td>\n",
              "      <td>508.0093</td>\n",
              "    </tr>\n",
              "    <tr>\n",
              "      <th>29</th>\n",
              "      <td>2014-12-31</td>\n",
              "      <td>515.79282</td>\n",
              "    </tr>\n",
              "    <tr>\n",
              "      <th>30</th>\n",
              "      <td>2015-12-31</td>\n",
              "      <td>518.9174</td>\n",
              "    </tr>\n",
              "    <tr>\n",
              "      <th>31</th>\n",
              "      <td>2016-12-31</td>\n",
              "      <td>528.1031</td>\n",
              "    </tr>\n",
              "    <tr>\n",
              "      <th>32</th>\n",
              "      <td>2017-12-31</td>\n",
              "      <td>531.83994</td>\n",
              "    </tr>\n",
              "    <tr>\n",
              "      <th>33</th>\n",
              "      <td>2018-12-31</td>\n",
              "      <td>553.99376</td>\n",
              "    </tr>\n",
              "    <tr>\n",
              "      <th>34</th>\n",
              "      <td>2019-12-31</td>\n",
              "      <td>546.438648</td>\n",
              "    </tr>\n",
              "    <tr>\n",
              "      <th>35</th>\n",
              "      <td>2020-12-31</td>\n",
              "      <td>536.1934663</td>\n",
              "    </tr>\n",
              "  </tbody>\n",
              "</table>\n",
              "</div>"
            ],
            "text/plain": [
              "            ds            y\n",
              "0   1985-12-31    62.667201\n",
              "1   1986-12-31    69.680597\n",
              "2   1987-12-31    80.251348\n",
              "3   1988-12-31    93.108847\n",
              "4   1989-12-31   103.623614\n",
              "5   1990-12-31   118.460795\n",
              "6   1991-12-31   131.616144\n",
              "7   1992-12-31   146.439284\n",
              "8   1993-12-31   161.900951\n",
              "9   1994-12-31   183.365532\n",
              "10  1995-12-31   203.546465\n",
              "11  1996-12-31   225.845719\n",
              "12  1997-12-31   246.587471\n",
              "13  1998-12-31   237.197406\n",
              "14  1999-12-31   262.152146\n",
              "15  2000-12-31    272.51133\n",
              "16  2001-12-31    291.92456\n",
              "17  2002-12-31     311.3841\n",
              "18  2003-12-31    324.15678\n",
              "19  2004-12-31    346.16448\n",
              "20  2005-12-31    364.38578\n",
              "21  2006-12-31    379.63628\n",
              "22  2007-12-31    402.77224\n",
              "23  2008-12-31    419.75636\n",
              "24  2009-12-31    426.88682\n",
              "25  2010-12-31     469.3253\n",
              "26  2011-12-31    491.46904\n",
              "27  2012-12-31    501.58688\n",
              "28  2013-12-31     508.0093\n",
              "29  2014-12-31    515.79282\n",
              "30  2015-12-31     518.9174\n",
              "31  2016-12-31     528.1031\n",
              "32  2017-12-31    531.83994\n",
              "33  2018-12-31    553.99376\n",
              "34  2019-12-31   546.438648\n",
              "35  2020-12-31  536.1934663"
            ]
          },
          "metadata": {},
          "execution_count": 4
        }
      ]
    },
    {
      "cell_type": "code",
      "metadata": {
        "id": "ijzaNW7nN066"
      },
      "source": [
        "from pystan import StanModel\n",
        "from fbprophet import Prophet"
      ],
      "execution_count": 5,
      "outputs": []
    },
    {
      "cell_type": "code",
      "metadata": {
        "id": "9yhpRKJaN3oC",
        "colab": {
          "base_uri": "https://localhost:8080/"
        },
        "outputId": "cb1e10ac-8dc0-4466-c0d8-8445b494f1f4"
      },
      "source": [
        "m = Prophet()\n",
        "m.fit(elec_newnew)"
      ],
      "execution_count": 6,
      "outputs": [
        {
          "output_type": "stream",
          "name": "stderr",
          "text": [
            "INFO:numexpr.utils:NumExpr defaulting to 2 threads.\n",
            "INFO:fbprophet:Disabling weekly seasonality. Run prophet with weekly_seasonality=True to override this.\n",
            "INFO:fbprophet:Disabling daily seasonality. Run prophet with daily_seasonality=True to override this.\n"
          ]
        },
        {
          "output_type": "execute_result",
          "data": {
            "text/plain": [
              "<fbprophet.forecaster.Prophet at 0x7f36764dc2d0>"
            ]
          },
          "metadata": {},
          "execution_count": 6
        }
      ]
    },
    {
      "cell_type": "code",
      "metadata": {
        "id": "386sfl_WN5jP",
        "colab": {
          "base_uri": "https://localhost:8080/",
          "height": 441
        },
        "outputId": "284f5bcb-020b-40eb-8c96-e7d5615f58a0"
      },
      "source": [
        "future_data = m.make_future_dataframe(periods=10,freq='Y')\n",
        "\n",
        "plt.rc('axes', unicode_minus=False)\n",
        "plt.rc('font', family='NanumGothic')\n",
        "\n",
        "forecast_data = m.predict(future_data)\n",
        "fig1 = m.plot(forecast_data,xlabel='년도',ylabel='전기소비량')"
      ],
      "execution_count": 7,
      "outputs": [
        {
          "output_type": "display_data",
          "data": {
            "image/png": "[encoded data removed]",
            "text/plain": [
              "<Figure size 720x432 with 1 Axes>"
            ]
          },
          "metadata": {}
        }
      ]
    },
    {
      "cell_type": "markdown",
      "metadata": {
        "id": "3um2XQ8VVFtN"
      },
      "source": [
        "# 종로구 전기사용량"
      ]
    },
    {
      "cell_type": "code",
      "metadata": {
        "id": "hHhBPVLHOlaj",
        "colab": {
          "base_uri": "https://localhost:8080/",
          "height": 390
        },
        "outputId": "346a6b76-e61e-4413-8695-94c4880c2c7b"
      },
      "source": [
        "elec_jongro = pd.read_csv('https://raw.githubusercontent.com/HyunhoSh/Seoul_bigdata_contest/main/folium_map/%EC%A2%85%EB%A1%9C%EA%B5%AC_2011_2020_%EC%A0%84%EA%B8%B0%EC%82%AC%EC%9A%A9%EB%9F%89.csv',encoding='utf-8',names = ['ds','y'])\n",
        "elec_jongro"
      ],
      "execution_count": 8,
      "outputs": [
        {
          "output_type": "execute_result",
          "data": {
            "text/html": [
              "<div>\n",
              "<style scoped>\n",
              "    .dataframe tbody tr th:only-of-type {\n",
              "        vertical-align: middle;\n",
              "    }\n",
              "\n",
              "    .dataframe tbody tr th {\n",
              "        vertical-align: top;\n",
              "    }\n",
              "\n",
              "    .dataframe thead th {\n",
              "        text-align: right;\n",
              "    }\n",
              "</style>\n",
              "<table border=\"1\" class=\"dataframe\">\n",
              "  <thead>\n",
              "    <tr style=\"text-align: right;\">\n",
              "      <th></th>\n",
              "      <th>ds</th>\n",
              "      <th>y</th>\n",
              "    </tr>\n",
              "  </thead>\n",
              "  <tbody>\n",
              "    <tr>\n",
              "      <th>0</th>\n",
              "      <td>year</td>\n",
              "      <td>consumption</td>\n",
              "    </tr>\n",
              "    <tr>\n",
              "      <th>1</th>\n",
              "      <td>2011-12-31</td>\n",
              "      <td>1756582</td>\n",
              "    </tr>\n",
              "    <tr>\n",
              "      <th>2</th>\n",
              "      <td>2012-12-31</td>\n",
              "      <td>1760642</td>\n",
              "    </tr>\n",
              "    <tr>\n",
              "      <th>3</th>\n",
              "      <td>2013-12-31</td>\n",
              "      <td>1734156</td>\n",
              "    </tr>\n",
              "    <tr>\n",
              "      <th>4</th>\n",
              "      <td>2014-12-31</td>\n",
              "      <td>1707267</td>\n",
              "    </tr>\n",
              "    <tr>\n",
              "      <th>5</th>\n",
              "      <td>2015-12-31</td>\n",
              "      <td>1730094</td>\n",
              "    </tr>\n",
              "    <tr>\n",
              "      <th>6</th>\n",
              "      <td>2016-12-31</td>\n",
              "      <td>1772001</td>\n",
              "    </tr>\n",
              "    <tr>\n",
              "      <th>7</th>\n",
              "      <td>2017-12-31</td>\n",
              "      <td>1753575</td>\n",
              "    </tr>\n",
              "    <tr>\n",
              "      <th>8</th>\n",
              "      <td>2018-12-31</td>\n",
              "      <td>1779509</td>\n",
              "    </tr>\n",
              "    <tr>\n",
              "      <th>9</th>\n",
              "      <td>2019-12-31</td>\n",
              "      <td>1746554</td>\n",
              "    </tr>\n",
              "    <tr>\n",
              "      <th>10</th>\n",
              "      <td>2020-12-31</td>\n",
              "      <td>1651884</td>\n",
              "    </tr>\n",
              "  </tbody>\n",
              "</table>\n",
              "</div>"
            ],
            "text/plain": [
              "            ds            y\n",
              "0         year  consumption\n",
              "1   2011-12-31      1756582\n",
              "2   2012-12-31      1760642\n",
              "3   2013-12-31      1734156\n",
              "4   2014-12-31      1707267\n",
              "5   2015-12-31      1730094\n",
              "6   2016-12-31      1772001\n",
              "7   2017-12-31      1753575\n",
              "8   2018-12-31      1779509\n",
              "9   2019-12-31      1746554\n",
              "10  2020-12-31      1651884"
            ]
          },
          "metadata": {},
          "execution_count": 8
        }
      ]
    },
    {
      "cell_type": "code",
      "metadata": {
        "id": "dayxeUaYVFcw",
        "colab": {
          "base_uri": "https://localhost:8080/",
          "height": 359
        },
        "outputId": "42a41920-f05c-4df7-d35f-3047c33d69b1"
      },
      "source": [
        "jongro_new_=elec_jongro.drop(index=0,axis=0)\n",
        "jongro_new__=jongro_new_.reset_index()\n",
        "jongro_new__"
      ],
      "execution_count": 9,
      "outputs": [
        {
          "output_type": "execute_result",
          "data": {
            "text/html": [
              "<div>\n",
              "<style scoped>\n",
              "    .dataframe tbody tr th:only-of-type {\n",
              "        vertical-align: middle;\n",
              "    }\n",
              "\n",
              "    .dataframe tbody tr th {\n",
              "        vertical-align: top;\n",
              "    }\n",
              "\n",
              "    .dataframe thead th {\n",
              "        text-align: right;\n",
              "    }\n",
              "</style>\n",
              "<table border=\"1\" class=\"dataframe\">\n",
              "  <thead>\n",
              "    <tr style=\"text-align: right;\">\n",
              "      <th></th>\n",
              "      <th>index</th>\n",
              "      <th>ds</th>\n",
              "      <th>y</th>\n",
              "    </tr>\n",
              "  </thead>\n",
              "  <tbody>\n",
              "    <tr>\n",
              "      <th>0</th>\n",
              "      <td>1</td>\n",
              "      <td>2011-12-31</td>\n",
              "      <td>1756582</td>\n",
              "    </tr>\n",
              "    <tr>\n",
              "      <th>1</th>\n",
              "      <td>2</td>\n",
              "      <td>2012-12-31</td>\n",
              "      <td>1760642</td>\n",
              "    </tr>\n",
              "    <tr>\n",
              "      <th>2</th>\n",
              "      <td>3</td>\n",
              "      <td>2013-12-31</td>\n",
              "      <td>1734156</td>\n",
              "    </tr>\n",
              "    <tr>\n",
              "      <th>3</th>\n",
              "      <td>4</td>\n",
              "      <td>2014-12-31</td>\n",
              "      <td>1707267</td>\n",
              "    </tr>\n",
              "    <tr>\n",
              "      <th>4</th>\n",
              "      <td>5</td>\n",
              "      <td>2015-12-31</td>\n",
              "      <td>1730094</td>\n",
              "    </tr>\n",
              "    <tr>\n",
              "      <th>5</th>\n",
              "      <td>6</td>\n",
              "      <td>2016-12-31</td>\n",
              "      <td>1772001</td>\n",
              "    </tr>\n",
              "    <tr>\n",
              "      <th>6</th>\n",
              "      <td>7</td>\n",
              "      <td>2017-12-31</td>\n",
              "      <td>1753575</td>\n",
              "    </tr>\n",
              "    <tr>\n",
              "      <th>7</th>\n",
              "      <td>8</td>\n",
              "      <td>2018-12-31</td>\n",
              "      <td>1779509</td>\n",
              "    </tr>\n",
              "    <tr>\n",
              "      <th>8</th>\n",
              "      <td>9</td>\n",
              "      <td>2019-12-31</td>\n",
              "      <td>1746554</td>\n",
              "    </tr>\n",
              "    <tr>\n",
              "      <th>9</th>\n",
              "      <td>10</td>\n",
              "      <td>2020-12-31</td>\n",
              "      <td>1651884</td>\n",
              "    </tr>\n",
              "  </tbody>\n",
              "</table>\n",
              "</div>"
            ],
            "text/plain": [
              "   index          ds        y\n",
              "0      1  2011-12-31  1756582\n",
              "1      2  2012-12-31  1760642\n",
              "2      3  2013-12-31  1734156\n",
              "3      4  2014-12-31  1707267\n",
              "4      5  2015-12-31  1730094\n",
              "5      6  2016-12-31  1772001\n",
              "6      7  2017-12-31  1753575\n",
              "7      8  2018-12-31  1779509\n",
              "8      9  2019-12-31  1746554\n",
              "9     10  2020-12-31  1651884"
            ]
          },
          "metadata": {},
          "execution_count": 9
        }
      ]
    },
    {
      "cell_type": "code",
      "metadata": {
        "id": "czdQRRxHVFNW",
        "colab": {
          "base_uri": "https://localhost:8080/",
          "height": 359
        },
        "outputId": "45f49d5d-c9f9-481c-8fd1-1235aacad974"
      },
      "source": [
        "jongro_newnew = jongro_new__.drop(columns=['index'],axis=1)\n",
        "jongro_newnew"
      ],
      "execution_count": 10,
      "outputs": [
        {
          "output_type": "execute_result",
          "data": {
            "text/html": [
              "<div>\n",
              "<style scoped>\n",
              "    .dataframe tbody tr th:only-of-type {\n",
              "        vertical-align: middle;\n",
              "    }\n",
              "\n",
              "    .dataframe tbody tr th {\n",
              "        vertical-align: top;\n",
              "    }\n",
              "\n",
              "    .dataframe thead th {\n",
              "        text-align: right;\n",
              "    }\n",
              "</style>\n",
              "<table border=\"1\" class=\"dataframe\">\n",
              "  <thead>\n",
              "    <tr style=\"text-align: right;\">\n",
              "      <th></th>\n",
              "      <th>ds</th>\n",
              "      <th>y</th>\n",
              "    </tr>\n",
              "  </thead>\n",
              "  <tbody>\n",
              "    <tr>\n",
              "      <th>0</th>\n",
              "      <td>2011-12-31</td>\n",
              "      <td>1756582</td>\n",
              "    </tr>\n",
              "    <tr>\n",
              "      <th>1</th>\n",
              "      <td>2012-12-31</td>\n",
              "      <td>1760642</td>\n",
              "    </tr>\n",
              "    <tr>\n",
              "      <th>2</th>\n",
              "      <td>2013-12-31</td>\n",
              "      <td>1734156</td>\n",
              "    </tr>\n",
              "    <tr>\n",
              "      <th>3</th>\n",
              "      <td>2014-12-31</td>\n",
              "      <td>1707267</td>\n",
              "    </tr>\n",
              "    <tr>\n",
              "      <th>4</th>\n",
              "      <td>2015-12-31</td>\n",
              "      <td>1730094</td>\n",
              "    </tr>\n",
              "    <tr>\n",
              "      <th>5</th>\n",
              "      <td>2016-12-31</td>\n",
              "      <td>1772001</td>\n",
              "    </tr>\n",
              "    <tr>\n",
              "      <th>6</th>\n",
              "      <td>2017-12-31</td>\n",
              "      <td>1753575</td>\n",
              "    </tr>\n",
              "    <tr>\n",
              "      <th>7</th>\n",
              "      <td>2018-12-31</td>\n",
              "      <td>1779509</td>\n",
              "    </tr>\n",
              "    <tr>\n",
              "      <th>8</th>\n",
              "      <td>2019-12-31</td>\n",
              "      <td>1746554</td>\n",
              "    </tr>\n",
              "    <tr>\n",
              "      <th>9</th>\n",
              "      <td>2020-12-31</td>\n",
              "      <td>1651884</td>\n",
              "    </tr>\n",
              "  </tbody>\n",
              "</table>\n",
              "</div>"
            ],
            "text/plain": [
              "           ds        y\n",
              "0  2011-12-31  1756582\n",
              "1  2012-12-31  1760642\n",
              "2  2013-12-31  1734156\n",
              "3  2014-12-31  1707267\n",
              "4  2015-12-31  1730094\n",
              "5  2016-12-31  1772001\n",
              "6  2017-12-31  1753575\n",
              "7  2018-12-31  1779509\n",
              "8  2019-12-31  1746554\n",
              "9  2020-12-31  1651884"
            ]
          },
          "metadata": {},
          "execution_count": 10
        }
      ]
    },
    {
      "cell_type": "code",
      "metadata": {
        "id": "eSjQv6jjVqZE",
        "colab": {
          "base_uri": "https://localhost:8080/"
        },
        "outputId": "5d69e9c1-1089-4cc3-fb4a-a57d34e6d4ba"
      },
      "source": [
        "jongro_m = Prophet()\n",
        "jongro_m.fit(jongro_newnew)"
      ],
      "execution_count": 11,
      "outputs": [
        {
          "output_type": "stream",
          "name": "stderr",
          "text": [
            "INFO:fbprophet:Disabling weekly seasonality. Run prophet with weekly_seasonality=True to override this.\n",
            "INFO:fbprophet:Disabling daily seasonality. Run prophet with daily_seasonality=True to override this.\n",
            "INFO:fbprophet:n_changepoints greater than number of observations. Using 7.\n"
          ]
        },
        {
          "output_type": "execute_result",
          "data": {
            "text/plain": [
              "<fbprophet.forecaster.Prophet at 0x7f367548d150>"
            ]
          },
          "metadata": {},
          "execution_count": 11
        }
      ]
    },
    {
      "cell_type": "code",
      "metadata": {
        "id": "qAJfVholVxyk",
        "colab": {
          "base_uri": "https://localhost:8080/",
          "height": 464
        },
        "outputId": "f83312f3-a087-43c3-e9b9-9e178d16ff17"
      },
      "source": [
        "future_data_jongro = jongro_m.make_future_dataframe(periods=10, freq='A')\n",
        "plt.rc('axes', unicode_minus=False)\n",
        "plt.rc('font', family='NanumGothic')\n",
        "\n",
        "forecast_data_jongro = jongro_m.predict(future_data_jongro)\n",
        "fig1 = jongro_m.plot(forecast_data_jongro,xlabel='연도',ylabel='전기소비량')\n",
        "plt.title('종로구')"
      ],
      "execution_count": 12,
      "outputs": [
        {
          "output_type": "execute_result",
          "data": {
            "text/plain": [
              "Text(0.5, 1.0, '종로구')"
            ]
          },
          "metadata": {},
          "execution_count": 12
        },
        {
          "output_type": "display_data",
          "data": {
            "image/png": "[encoded data removed]",
            "text/plain": [
              "<Figure size 720x432 with 1 Axes>"
            ]
          },
          "metadata": {}
        }
      ]
    },
    {
      "cell_type": "markdown",
      "metadata": {
        "id": "vFl70pd3asog"
      },
      "source": [
        "# 중구"
      ]
    },
    {
      "cell_type": "code",
      "metadata": {
        "id": "QvJd91l2V4lD",
        "colab": {
          "base_uri": "https://localhost:8080/",
          "height": 359
        },
        "outputId": "1f3d6f31-5a16-496d-cb90-0f10ec71b95e"
      },
      "source": [
        "elec_junggu = pd.read_csv('https://raw.githubusercontent.com/HyunhoSh/Seoul_bigdata_contest/main/folium_map/%EC%A4%91%EA%B5%AC_2011_2020_%EC%A0%84%EA%B8%B0%EC%82%AC%EC%9A%A9%EB%9F%89.csv',encoding='utf-8',names = ['ds','y'])\n",
        "elec_junggu"
      ],
      "execution_count": 13,
      "outputs": [
        {
          "output_type": "execute_result",
          "data": {
            "text/html": [
              "<div>\n",
              "<style scoped>\n",
              "    .dataframe tbody tr th:only-of-type {\n",
              "        vertical-align: middle;\n",
              "    }\n",
              "\n",
              "    .dataframe tbody tr th {\n",
              "        vertical-align: top;\n",
              "    }\n",
              "\n",
              "    .dataframe thead th {\n",
              "        text-align: right;\n",
              "    }\n",
              "</style>\n",
              "<table border=\"1\" class=\"dataframe\">\n",
              "  <thead>\n",
              "    <tr style=\"text-align: right;\">\n",
              "      <th></th>\n",
              "      <th>ds</th>\n",
              "      <th>y</th>\n",
              "    </tr>\n",
              "  </thead>\n",
              "  <tbody>\n",
              "    <tr>\n",
              "      <th>0</th>\n",
              "      <td>2011-12-31</td>\n",
              "      <td>2687503</td>\n",
              "    </tr>\n",
              "    <tr>\n",
              "      <th>1</th>\n",
              "      <td>2012-12-31</td>\n",
              "      <td>2714330</td>\n",
              "    </tr>\n",
              "    <tr>\n",
              "      <th>2</th>\n",
              "      <td>2013-12-31</td>\n",
              "      <td>2630165</td>\n",
              "    </tr>\n",
              "    <tr>\n",
              "      <th>3</th>\n",
              "      <td>2014-12-31</td>\n",
              "      <td>2519655</td>\n",
              "    </tr>\n",
              "    <tr>\n",
              "      <th>4</th>\n",
              "      <td>2015-12-31</td>\n",
              "      <td>2489750</td>\n",
              "    </tr>\n",
              "    <tr>\n",
              "      <th>5</th>\n",
              "      <td>2016-12-31</td>\n",
              "      <td>2549835</td>\n",
              "    </tr>\n",
              "    <tr>\n",
              "      <th>6</th>\n",
              "      <td>2017-12-31</td>\n",
              "      <td>2503707</td>\n",
              "    </tr>\n",
              "    <tr>\n",
              "      <th>7</th>\n",
              "      <td>2018-12-31</td>\n",
              "      <td>2516717</td>\n",
              "    </tr>\n",
              "    <tr>\n",
              "      <th>8</th>\n",
              "      <td>2019-12-31</td>\n",
              "      <td>2460734</td>\n",
              "    </tr>\n",
              "    <tr>\n",
              "      <th>9</th>\n",
              "      <td>2020-12-31</td>\n",
              "      <td>2238660</td>\n",
              "    </tr>\n",
              "  </tbody>\n",
              "</table>\n",
              "</div>"
            ],
            "text/plain": [
              "           ds        y\n",
              "0  2011-12-31  2687503\n",
              "1  2012-12-31  2714330\n",
              "2  2013-12-31  2630165\n",
              "3  2014-12-31  2519655\n",
              "4  2015-12-31  2489750\n",
              "5  2016-12-31  2549835\n",
              "6  2017-12-31  2503707\n",
              "7  2018-12-31  2516717\n",
              "8  2019-12-31  2460734\n",
              "9  2020-12-31  2238660"
            ]
          },
          "metadata": {},
          "execution_count": 13
        }
      ]
    },
    {
      "cell_type": "code",
      "metadata": {
        "id": "ZjbDLemoasHc",
        "colab": {
          "base_uri": "https://localhost:8080/"
        },
        "outputId": "9ce2c46e-e172-4901-e68b-037ff2c9dc0e"
      },
      "source": [
        "junggu_m = Prophet()\n",
        "junggu_m.fit(elec_junggu)"
      ],
      "execution_count": 14,
      "outputs": [
        {
          "output_type": "stream",
          "name": "stderr",
          "text": [
            "INFO:fbprophet:Disabling weekly seasonality. Run prophet with weekly_seasonality=True to override this.\n",
            "INFO:fbprophet:Disabling daily seasonality. Run prophet with daily_seasonality=True to override this.\n",
            "INFO:fbprophet:n_changepoints greater than number of observations. Using 7.\n"
          ]
        },
        {
          "output_type": "execute_result",
          "data": {
            "text/plain": [
              "<fbprophet.forecaster.Prophet at 0x7f3675341d90>"
            ]
          },
          "metadata": {},
          "execution_count": 14
        }
      ]
    },
    {
      "cell_type": "code",
      "metadata": {
        "id": "RvADE6sFbG2J",
        "colab": {
          "base_uri": "https://localhost:8080/",
          "height": 464
        },
        "outputId": "83430427-d9a8-4a07-bdd1-93945a4c7674"
      },
      "source": [
        "future_data_junggu = junggu_m.make_future_dataframe(periods=10, freq='A')\n",
        "plt.rc('axes', unicode_minus=False)\n",
        "plt.rc('font', family='NanumGothic')\n",
        "\n",
        "forecast_data_junggu = junggu_m.predict(future_data_junggu)\n",
        "fig1 = junggu_m.plot(forecast_data_junggu,xlabel='연도',ylabel='전기소비량')\n",
        "plt.title('중구')"
      ],
      "execution_count": 15,
      "outputs": [
        {
          "output_type": "execute_result",
          "data": {
            "text/plain": [
              "Text(0.5, 1.0, '중구')"
            ]
          },
          "metadata": {},
          "execution_count": 15
        },
        {
          "output_type": "display_data",
          "data": {
            "image/png": "[encoded data removed]",
            "text/plain": [
              "<Figure size 720x432 with 1 Axes>"
            ]
          },
          "metadata": {}
        }
      ]
    },
    {
      "cell_type": "markdown",
      "metadata": {
        "id": "FQHFRu4QeO1T"
      },
      "source": [
        "# 용산구"
      ]
    },
    {
      "cell_type": "code",
      "metadata": {
        "id": "FQlvgV1AbYzz",
        "colab": {
          "base_uri": "https://localhost:8080/",
          "height": 359
        },
        "outputId": "29e1f35a-5773-4c0d-c42e-8d96bdcff5ad"
      },
      "source": [
        "elec_yongsangu = pd.read_csv('https://raw.githubusercontent.com/HyunhoSh/Seoul_bigdata_contest/main/folium_map/%EC%9A%A9%EC%82%B0%EA%B5%AC_2011_2020_%EC%A0%84%EA%B8%B0%EC%82%AC%EC%9A%A9%EB%9F%89.csv',encoding='utf-8',names = ['ds','y'])\n",
        "elec_yongsangu"
      ],
      "execution_count": 16,
      "outputs": [
        {
          "output_type": "execute_result",
          "data": {
            "text/html": [
              "<div>\n",
              "<style scoped>\n",
              "    .dataframe tbody tr th:only-of-type {\n",
              "        vertical-align: middle;\n",
              "    }\n",
              "\n",
              "    .dataframe tbody tr th {\n",
              "        vertical-align: top;\n",
              "    }\n",
              "\n",
              "    .dataframe thead th {\n",
              "        text-align: right;\n",
              "    }\n",
              "</style>\n",
              "<table border=\"1\" class=\"dataframe\">\n",
              "  <thead>\n",
              "    <tr style=\"text-align: right;\">\n",
              "      <th></th>\n",
              "      <th>ds</th>\n",
              "      <th>y</th>\n",
              "    </tr>\n",
              "  </thead>\n",
              "  <tbody>\n",
              "    <tr>\n",
              "      <th>0</th>\n",
              "      <td>2011-12-31</td>\n",
              "      <td>1423597</td>\n",
              "    </tr>\n",
              "    <tr>\n",
              "      <th>1</th>\n",
              "      <td>2012-12-31</td>\n",
              "      <td>1419021</td>\n",
              "    </tr>\n",
              "    <tr>\n",
              "      <th>2</th>\n",
              "      <td>2013-12-31</td>\n",
              "      <td>1391454</td>\n",
              "    </tr>\n",
              "    <tr>\n",
              "      <th>3</th>\n",
              "      <td>2014-12-31</td>\n",
              "      <td>1343303</td>\n",
              "    </tr>\n",
              "    <tr>\n",
              "      <th>4</th>\n",
              "      <td>2015-12-31</td>\n",
              "      <td>1354229</td>\n",
              "    </tr>\n",
              "    <tr>\n",
              "      <th>5</th>\n",
              "      <td>2016-12-31</td>\n",
              "      <td>1392125</td>\n",
              "    </tr>\n",
              "    <tr>\n",
              "      <th>6</th>\n",
              "      <td>2017-12-31</td>\n",
              "      <td>1389969</td>\n",
              "    </tr>\n",
              "    <tr>\n",
              "      <th>7</th>\n",
              "      <td>2018-12-31</td>\n",
              "      <td>1448285</td>\n",
              "    </tr>\n",
              "    <tr>\n",
              "      <th>8</th>\n",
              "      <td>2019-12-31</td>\n",
              "      <td>1401975</td>\n",
              "    </tr>\n",
              "    <tr>\n",
              "      <th>9</th>\n",
              "      <td>2020-12-31</td>\n",
              "      <td>1333728</td>\n",
              "    </tr>\n",
              "  </tbody>\n",
              "</table>\n",
              "</div>"
            ],
            "text/plain": [
              "           ds        y\n",
              "0  2011-12-31  1423597\n",
              "1  2012-12-31  1419021\n",
              "2  2013-12-31  1391454\n",
              "3  2014-12-31  1343303\n",
              "4  2015-12-31  1354229\n",
              "5  2016-12-31  1392125\n",
              "6  2017-12-31  1389969\n",
              "7  2018-12-31  1448285\n",
              "8  2019-12-31  1401975\n",
              "9  2020-12-31  1333728"
            ]
          },
          "metadata": {},
          "execution_count": 16
        }
      ]
    },
    {
      "cell_type": "code",
      "metadata": {
        "id": "5i2W90LieZZZ",
        "colab": {
          "base_uri": "https://localhost:8080/"
        },
        "outputId": "0a1523b3-e8a6-40a5-f127-5295bc8e5891"
      },
      "source": [
        "yongsangu_m = Prophet()\n",
        "yongsangu_m.fit(elec_yongsangu)"
      ],
      "execution_count": 17,
      "outputs": [
        {
          "output_type": "stream",
          "name": "stderr",
          "text": [
            "INFO:fbprophet:Disabling weekly seasonality. Run prophet with weekly_seasonality=True to override this.\n",
            "INFO:fbprophet:Disabling daily seasonality. Run prophet with daily_seasonality=True to override this.\n",
            "INFO:fbprophet:n_changepoints greater than number of observations. Using 7.\n"
          ]
        },
        {
          "output_type": "execute_result",
          "data": {
            "text/plain": [
              "<fbprophet.forecaster.Prophet at 0x7f367562c4d0>"
            ]
          },
          "metadata": {},
          "execution_count": 17
        }
      ]
    },
    {
      "cell_type": "code",
      "metadata": {
        "id": "NRpWt2LwefJE",
        "colab": {
          "base_uri": "https://localhost:8080/",
          "height": 464
        },
        "outputId": "08012904-44a5-4e05-f3fc-76bc4264fdb9"
      },
      "source": [
        "future_data_yongsangu = yongsangu_m.make_future_dataframe(periods=10, freq='A')\n",
        "forecast_data_yongsangu = yongsangu_m.predict(future_data_yongsangu)\n",
        "fig1 = yongsangu_m.plot(forecast_data_yongsangu,xlabel='연도',ylabel='전기소비량')\n",
        "plt.title('용신구')"
      ],
      "execution_count": 18,
      "outputs": [
        {
          "output_type": "execute_result",
          "data": {
            "text/plain": [
              "Text(0.5, 1.0, '용신구')"
            ]
          },
          "metadata": {},
          "execution_count": 18
        },
        {
          "output_type": "display_data",
          "data": {
            "image/png": "[encoded data removed]",
            "text/plain": [
              "<Figure size 720x432 with 1 Axes>"
            ]
          },
          "metadata": {}
        }
      ]
    },
    {
      "cell_type": "markdown",
      "metadata": {
        "id": "a-WbKHyAMSNE"
      },
      "source": [
        "# 성동구 전기사용량"
      ]
    },
    {
      "cell_type": "code",
      "metadata": {
        "id": "RdhGKXV5exra",
        "colab": {
          "base_uri": "https://localhost:8080/",
          "height": 359
        },
        "outputId": "664dfb89-f543-4813-9ade-f6ef55b6776a"
      },
      "source": [
        "elec_seongdonggu = pd.read_csv('https://raw.githubusercontent.com/HyunhoSh/Seoul_bigdata_contest/main/folium_map/%EC%84%B1%EB%8F%99%EA%B5%AC_2011_2020.csv',encoding='utf-8',names = ['ds','y'])\n",
        "elec_seongdonggu"
      ],
      "execution_count": 19,
      "outputs": [
        {
          "output_type": "execute_result",
          "data": {
            "text/html": [
              "<div>\n",
              "<style scoped>\n",
              "    .dataframe tbody tr th:only-of-type {\n",
              "        vertical-align: middle;\n",
              "    }\n",
              "\n",
              "    .dataframe tbody tr th {\n",
              "        vertical-align: top;\n",
              "    }\n",
              "\n",
              "    .dataframe thead th {\n",
              "        text-align: right;\n",
              "    }\n",
              "</style>\n",
              "<table border=\"1\" class=\"dataframe\">\n",
              "  <thead>\n",
              "    <tr style=\"text-align: right;\">\n",
              "      <th></th>\n",
              "      <th>ds</th>\n",
              "      <th>y</th>\n",
              "    </tr>\n",
              "  </thead>\n",
              "  <tbody>\n",
              "    <tr>\n",
              "      <th>0</th>\n",
              "      <td>2011-12-31</td>\n",
              "      <td>1864641</td>\n",
              "    </tr>\n",
              "    <tr>\n",
              "      <th>1</th>\n",
              "      <td>2012-12-31</td>\n",
              "      <td>1872942</td>\n",
              "    </tr>\n",
              "    <tr>\n",
              "      <th>2</th>\n",
              "      <td>2013-12-31</td>\n",
              "      <td>1893708</td>\n",
              "    </tr>\n",
              "    <tr>\n",
              "      <th>3</th>\n",
              "      <td>2014-12-31</td>\n",
              "      <td>1860251</td>\n",
              "    </tr>\n",
              "    <tr>\n",
              "      <th>4</th>\n",
              "      <td>2015-12-31</td>\n",
              "      <td>1880003</td>\n",
              "    </tr>\n",
              "    <tr>\n",
              "      <th>5</th>\n",
              "      <td>2016-12-31</td>\n",
              "      <td>1909363</td>\n",
              "    </tr>\n",
              "    <tr>\n",
              "      <th>6</th>\n",
              "      <td>2017-12-31</td>\n",
              "      <td>2034589</td>\n",
              "    </tr>\n",
              "    <tr>\n",
              "      <th>7</th>\n",
              "      <td>2018-12-31</td>\n",
              "      <td>2203585</td>\n",
              "    </tr>\n",
              "    <tr>\n",
              "      <th>8</th>\n",
              "      <td>2019-12-31</td>\n",
              "      <td>2177900</td>\n",
              "    </tr>\n",
              "    <tr>\n",
              "      <th>9</th>\n",
              "      <td>2020-12-31</td>\n",
              "      <td>2123324</td>\n",
              "    </tr>\n",
              "  </tbody>\n",
              "</table>\n",
              "</div>"
            ],
            "text/plain": [
              "           ds        y\n",
              "0  2011-12-31  1864641\n",
              "1  2012-12-31  1872942\n",
              "2  2013-12-31  1893708\n",
              "3  2014-12-31  1860251\n",
              "4  2015-12-31  1880003\n",
              "5  2016-12-31  1909363\n",
              "6  2017-12-31  2034589\n",
              "7  2018-12-31  2203585\n",
              "8  2019-12-31  2177900\n",
              "9  2020-12-31  2123324"
            ]
          },
          "metadata": {},
          "execution_count": 19
        }
      ]
    },
    {
      "cell_type": "code",
      "metadata": {
        "id": "TxoKtOhzg2Dy",
        "colab": {
          "base_uri": "https://localhost:8080/"
        },
        "outputId": "bc39ea80-1afe-4f6d-8f63-a09139fc609d"
      },
      "source": [
        "seongdonggu_m = Prophet()\n",
        "seongdonggu_m.fit(elec_seongdonggu)"
      ],
      "execution_count": 20,
      "outputs": [
        {
          "output_type": "stream",
          "name": "stderr",
          "text": [
            "INFO:fbprophet:Disabling weekly seasonality. Run prophet with weekly_seasonality=True to override this.\n",
            "INFO:fbprophet:Disabling daily seasonality. Run prophet with daily_seasonality=True to override this.\n",
            "INFO:fbprophet:n_changepoints greater than number of observations. Using 7.\n"
          ]
        },
        {
          "output_type": "execute_result",
          "data": {
            "text/plain": [
              "<fbprophet.forecaster.Prophet at 0x7f367548d2d0>"
            ]
          },
          "metadata": {},
          "execution_count": 20
        }
      ]
    },
    {
      "cell_type": "code",
      "metadata": {
        "id": "j0RzZwPNg8S7",
        "colab": {
          "base_uri": "https://localhost:8080/",
          "height": 464
        },
        "outputId": "60fa29a4-3cbb-49d4-f21a-804dcb1d4517"
      },
      "source": [
        "future_data_seongdonggu = seongdonggu_m.make_future_dataframe(periods=10, freq='A')\n",
        "forecast_data_seongdonggu = seongdonggu_m.predict(future_data_seongdonggu)\n",
        "fig1 = seongdonggu_m.plot(forecast_data_seongdonggu,xlabel='연도',ylabel='전기소비량')\n",
        "plt.title('성동구')"
      ],
      "execution_count": 21,
      "outputs": [
        {
          "output_type": "execute_result",
          "data": {
            "text/plain": [
              "Text(0.5, 1.0, '성동구')"
            ]
          },
          "metadata": {},
          "execution_count": 21
        },
        {
          "output_type": "display_data",
          "data": {
            "image/png": "[encoded data removed]",
            "text/plain": [
              "<Figure size 720x432 with 1 Axes>"
            ]
          },
          "metadata": {}
        }
      ]
    },
    {
      "cell_type": "code",
      "metadata": {
        "id": "HwNIvYpZmHFo"
      },
      "source": [
        ""
      ],
      "execution_count": null,
      "outputs": []
    }
  ]
}